{
 "cells": [
  {
   "cell_type": "code",
   "execution_count": 1,
   "metadata": {
    "colab": {
     "base_uri": "https://localhost:8080/",
     "height": 1000
    },
    "id": "ZxJRN8dbB8HK",
    "outputId": "2974636e-a331-4185-a80a-4bba539eb2ec"
   },
   "outputs": [
    {
     "name": "stdout",
     "output_type": "stream",
     "text": [
      "Requirement already satisfied: mlrose in /Users/LouisReinaldo/opt/anaconda3/lib/python3.9/site-packages (1.3.0)\n",
      "Requirement already satisfied: numpy in /Users/LouisReinaldo/opt/anaconda3/lib/python3.9/site-packages (from mlrose) (1.21.5)\n",
      "Requirement already satisfied: sklearn in /Users/LouisReinaldo/opt/anaconda3/lib/python3.9/site-packages (from mlrose) (0.0.post1)\n",
      "Requirement already satisfied: scipy in /Users/LouisReinaldo/opt/anaconda3/lib/python3.9/site-packages (from mlrose) (1.9.1)\n",
      "Requirement already satisfied: six in /Users/LouisReinaldo/opt/anaconda3/lib/python3.9/site-packages (1.16.0)\n",
      "Requirement already satisfied: mlrose_hiive in /Users/LouisReinaldo/opt/anaconda3/lib/python3.9/site-packages (2.2.4)\n",
      "Requirement already satisfied: pandas in /Users/LouisReinaldo/opt/anaconda3/lib/python3.9/site-packages (from mlrose_hiive) (1.4.4)\n",
      "Requirement already satisfied: joblib in /Users/LouisReinaldo/opt/anaconda3/lib/python3.9/site-packages (from mlrose_hiive) (1.1.0)\n",
      "Requirement already satisfied: scipy in /Users/LouisReinaldo/opt/anaconda3/lib/python3.9/site-packages (from mlrose_hiive) (1.9.1)\n",
      "Requirement already satisfied: numpy in /Users/LouisReinaldo/opt/anaconda3/lib/python3.9/site-packages (from mlrose_hiive) (1.21.5)\n",
      "Requirement already satisfied: scikit-learn in /Users/LouisReinaldo/opt/anaconda3/lib/python3.9/site-packages (from mlrose_hiive) (1.0.2)\n",
      "Requirement already satisfied: networkx in /Users/LouisReinaldo/opt/anaconda3/lib/python3.9/site-packages (from mlrose_hiive) (2.8.4)\n",
      "Requirement already satisfied: python-dateutil>=2.8.1 in /Users/LouisReinaldo/opt/anaconda3/lib/python3.9/site-packages (from pandas->mlrose_hiive) (2.8.2)\n",
      "Requirement already satisfied: pytz>=2020.1 in /Users/LouisReinaldo/opt/anaconda3/lib/python3.9/site-packages (from pandas->mlrose_hiive) (2022.1)\n",
      "Requirement already satisfied: threadpoolctl>=2.0.0 in /Users/LouisReinaldo/opt/anaconda3/lib/python3.9/site-packages (from scikit-learn->mlrose_hiive) (2.2.0)\n",
      "Requirement already satisfied: six>=1.5 in /Users/LouisReinaldo/opt/anaconda3/lib/python3.9/site-packages (from python-dateutil>=2.8.1->pandas->mlrose_hiive) (1.16.0)\n",
      "Requirement already satisfied: networkx in /Users/LouisReinaldo/opt/anaconda3/lib/python3.9/site-packages (2.8.4)\n",
      "Requirement already satisfied: datacleaner in /Users/LouisReinaldo/opt/anaconda3/lib/python3.9/site-packages (0.1.5)\n",
      "Requirement already satisfied: pandas in /Users/LouisReinaldo/opt/anaconda3/lib/python3.9/site-packages (from datacleaner) (1.4.4)\n",
      "Requirement already satisfied: scikit-learn in /Users/LouisReinaldo/opt/anaconda3/lib/python3.9/site-packages (from datacleaner) (1.0.2)\n",
      "Requirement already satisfied: update-checker in /Users/LouisReinaldo/opt/anaconda3/lib/python3.9/site-packages (from datacleaner) (0.18.0)\n",
      "Requirement already satisfied: python-dateutil>=2.8.1 in /Users/LouisReinaldo/opt/anaconda3/lib/python3.9/site-packages (from pandas->datacleaner) (2.8.2)\n",
      "Requirement already satisfied: pytz>=2020.1 in /Users/LouisReinaldo/opt/anaconda3/lib/python3.9/site-packages (from pandas->datacleaner) (2022.1)\n",
      "Requirement already satisfied: numpy>=1.18.5 in /Users/LouisReinaldo/opt/anaconda3/lib/python3.9/site-packages (from pandas->datacleaner) (1.21.5)\n",
      "Requirement already satisfied: joblib>=0.11 in /Users/LouisReinaldo/opt/anaconda3/lib/python3.9/site-packages (from scikit-learn->datacleaner) (1.1.0)\n",
      "Requirement already satisfied: scipy>=1.1.0 in /Users/LouisReinaldo/opt/anaconda3/lib/python3.9/site-packages (from scikit-learn->datacleaner) (1.9.1)\n",
      "Requirement already satisfied: threadpoolctl>=2.0.0 in /Users/LouisReinaldo/opt/anaconda3/lib/python3.9/site-packages (from scikit-learn->datacleaner) (2.2.0)\n",
      "Requirement already satisfied: requests>=2.3.0 in /Users/LouisReinaldo/opt/anaconda3/lib/python3.9/site-packages (from update-checker->datacleaner) (2.28.1)\n",
      "Requirement already satisfied: six>=1.5 in /Users/LouisReinaldo/opt/anaconda3/lib/python3.9/site-packages (from python-dateutil>=2.8.1->pandas->datacleaner) (1.16.0)\n",
      "Requirement already satisfied: charset-normalizer<3,>=2 in /Users/LouisReinaldo/opt/anaconda3/lib/python3.9/site-packages (from requests>=2.3.0->update-checker->datacleaner) (2.0.4)\n",
      "Requirement already satisfied: urllib3<1.27,>=1.21.1 in /Users/LouisReinaldo/opt/anaconda3/lib/python3.9/site-packages (from requests>=2.3.0->update-checker->datacleaner) (1.26.11)\n",
      "Requirement already satisfied: certifi>=2017.4.17 in /Users/LouisReinaldo/opt/anaconda3/lib/python3.9/site-packages (from requests>=2.3.0->update-checker->datacleaner) (2022.9.24)\n",
      "Requirement already satisfied: idna<4,>=2.5 in /Users/LouisReinaldo/opt/anaconda3/lib/python3.9/site-packages (from requests>=2.3.0->update-checker->datacleaner) (3.3)\n"
     ]
    }
   ],
   "source": [
    "! pip install mlrose\n",
    "! pip install six\n",
    "! pip install mlrose_hiive\n",
    "! pip install networkx\n",
    "! pip install datacleaner\n",
    "# ! pip install google.colab\n",
    "# from google.colab import drive\n",
    "# ! pip install pickle\n",
    "# import pickle\n",
    "\n",
    "import networkx as nx\n",
    "import six\n",
    "import sys\n",
    "sys.modules['sklearn.externals.six'] = six\n",
    "import string\n",
    "import numpy as np\n",
    "import pandas as pd\n",
    "#import plotly.express as px\n",
    "import time\n",
    "import matplotlib.pyplot as plt\n",
    "from sklearn.preprocessing import MinMaxScaler, LabelEncoder\n",
    "from sklearn.model_selection import train_test_split, learning_curve, GridSearchCV, cross_val_score, validation_curve\n",
    "from sklearn.preprocessing import MinMaxScaler, OneHotEncoder\n",
    "from sklearn.metrics import accuracy_score\n",
    "import mlrose\n",
    "import mlrose_hiive\n",
    "from mlrose_hiive import QueensGenerator, MaxKColorGenerator, TSPGenerator\n",
    "from mlrose_hiive import RHCRunner, SARunner, GARunner, MIMICRunner, NNGSRunner, NeuralNetwork\n",
    "from datacleaner import autoclean\n",
    "from sklearn.metrics import f1_score\n",
    "# import time\n"
   ]
  },
  {
   "cell_type": "markdown",
   "metadata": {
    "id": "5yoZxML8UGcS"
   },
   "source": [
    "Plotting Discrete Optimization Problem"
   ]
  },
  {
   "cell_type": "code",
   "execution_count": null,
   "metadata": {
    "colab": {
     "base_uri": "https://localhost:8080/",
     "height": 268
    },
    "id": "pvJYpGjLDWCu",
    "outputId": "abbfeff6-d193-4cf9-a8e6-bf57d98bec39"
   },
   "outputs": [
    {
     "data": {
      "image/png": "[encoded data removed]",
      "text/plain": [
       "<Figure size 432x288 with 1 Axes>"
      ]
     },
     "metadata": {},
     "output_type": "display_data"
    }
   ],
   "source": [
    "def plot_n_queens_solution(board):\n",
    "    n = board.shape[0]\n",
    "    board_image = np.zeros((n, n))\n",
    "    board_image[::2, 1::2] = 1\n",
    "    board_image[1::2, ::2] = 1\n",
    "    queens = np.argwhere(board)\n",
    "    for r, c in queens:\n",
    "        board_image[r, c] = 2\n",
    "    fig, ax = plt.subplots()\n",
    "    ax.imshow(board_image, cmap='binary')\n",
    "    ax.set_xticks([])\n",
    "    ax.set_yticks([])\n",
    "    ax.set_title(f\"n-Queens Solution with n={n}\")\n",
    "    plt.show()\n",
    "\n",
    "board = np.array([[False, True, False, False, False, False, False, False],\n",
    "                  [False, False, False, True, False, False, False, True],\n",
    "                  [True, False, False, False, True, False, False, False],\n",
    "                  [False, False, True, False, False, False, True, False],\n",
    "                  [False, True, False, False, False, True, False, False],\n",
    "                  [False, False, False, True, False, False, False, True],\n",
    "                  [True, False, False, False, True, False, False, False],\n",
    "                  [False, False, True, False, False, False, True, False]\n",
    "                  ])\n",
    "plot_n_queens_solution(board)"
   ]
  },
  {
   "cell_type": "code",
   "execution_count": null,
   "metadata": {
    "colab": {
     "base_uri": "https://localhost:8080/",
     "height": 335
    },
    "id": "WtPUfPd9GNIg",
    "outputId": "35b73fbd-f1d8-4e1a-b349-d4d61accf106"
   },
   "outputs": [
    {
     "data": {
      "image/png": "[encoded data removed]",
      "text/plain": [
       "<Figure size 432x288 with 1 Axes>"
      ]
     },
     "metadata": {},
     "output_type": "display_data"
    }
   ],
   "source": [
    "\n",
    "def plot_max_k_color_solution(graph, k, color_map):\n",
    "    pos = nx.spring_layout(graph)\n",
    "    nx.draw(graph, pos, node_color=color_map, with_labels=True)\n",
    "    plt.title(f\"Max {k}-Coloring of Graph\")\n",
    "    plt.show()\n",
    "\n",
    "graph = nx.Graph()\n",
    "graph.add_edges_from([(1, 2), (1, 3), (1, 4), (2, 3), (2, 4), (3, 4)])\n",
    "color_map = ['r', 'g', 'b', 'r']\n",
    "k = 3\n",
    "plot_max_k_color_solution(graph, k, color_map)\n"
   ]
  },
  {
   "cell_type": "code",
   "execution_count": null,
   "metadata": {
    "colab": {
     "base_uri": "https://localhost:8080/",
     "height": 295
    },
    "id": "Gqbla_b8GxSd",
    "outputId": "02bf88b3-3aab-4c43-e408-b897d50af7ea"
   },
   "outputs": [
    {
     "data": {
      "image/png": "[encoded data removed]",
      "text/plain": [
       "<Figure size 432x288 with 1 Axes>"
      ]
     },
     "metadata": {
      "needs_background": "light"
     },
     "output_type": "display_data"
    }
   ],
   "source": [
    "def plot_tsp(cities, tour):\n",
    "    fig, ax = plt.subplots()\n",
    "    ax.scatter(cities[:, 0], cities[:, 1])\n",
    "    for i in range(len(tour)-1):\n",
    "        ax.plot(cities[tour[i:i+2], 0], cities[tour[i:i+2], 1], 'r')\n",
    "    ax.plot(cities[tour[-1], 0], cities[tour[-1], 1], 'r', label='Tour')\n",
    "    ax.legend()\n",
    "    ax.set_title(\"Traveling Salesman Problem\")\n",
    "    ax.set_xlabel(\"x\")\n",
    "    ax.set_ylabel(\"y\")\n",
    "    plt.show()\n",
    "\n",
    "cities = np.array([[0, 0], [0, 1], [1, 1], [1, 0]])\n",
    "tour = [0, 2, 1, 3]\n",
    "plot_tsp(cities, tour)"
   ]
  },
  {
   "cell_type": "code",
   "execution_count": 67,
   "metadata": {
    "id": "CUYOUxsvqIA5"
   },
   "outputs": [],
   "source": [
    "def get_algoritm_run_stats(algo_name, problem):\n",
    "    if algo_name == 'RHC':\n",
    "        algo = RHCRunner(problem=problem,\n",
    "                           experiment_name=\"Random Hill Climb\",\n",
    "                           seed=0,\n",
    "                           iteration_list=2 ** np.arange(10),\n",
    "                           max_attempts=1000,\n",
    "                           restart_list=[10])\n",
    "    elif algo_name == 'SA':\n",
    "        algo = SARunner(problem=problem,\n",
    "                         experiment_name=\"Simulated Annealing\",\n",
    "                         seed=13,\n",
    "                         iteration_list=2 ** np.arange(10),\n",
    "                         max_attempts=1000,\n",
    "                         temperature_list=[0.1, 0.5, 0.75, 1.0, 2.0, 5.0])\n",
    "    elif algo_name == 'GA':\n",
    "        algo = GARunner(problem=problem,\n",
    "                         experiment_name=\"Genetic Algorithm\",\n",
    "                         seed=None,\n",
    "                         iteration_list=2 ** np.arange(10),\n",
    "                         max_attempts=1000,\n",
    "                         population_sizes=[10, 20, 50, 100, 200],\n",
    "                         mutation_rates=[0.01, 0.1, 0.2, 0.5])\n",
    "    elif algo_name == 'MIMIC':\n",
    "        algo = MIMICRunner(problem=problem,\n",
    "                           experiment_name=\"MIMIC\",\n",
    "                           seed=None,\n",
    "                           iteration_list=2 ** np.arange(10),\n",
    "                           population_sizes=[50, 100, 200],\n",
    "                           max_attempts=1000,\n",
    "                           keep_percent_list=[0.05, 0.1, 0.2, 0.5],\n",
    "                           use_fast_mimic=True)\n",
    "    run_statistics, run_curves = algo.run()\n",
    "    return run_statistics, run_curves\n",
    "\n",
    "\n",
    "def get_best_run_curve(run_curves):\n",
    "    runs_with_min_fitness = run_curves[run_curves['Fitness'] == run_curves['Fitness'].min()]\n",
    "    best_run_curve = runs_with_min_fitness[runs_with_min_fitness['FEvals'] == runs_with_min_fitness['FEvals'].min()]\n",
    "    return best_run_curve\n",
    "\n",
    "\n",
    "def get_best_run_statistics(algo_name, best_run_curve, run_statistics):\n",
    "    if algo_name == 'RHC':\n",
    "        best_stats = run_statistics[(run_statistics['current_restart'] == best_run_curve['current_restart'].iloc()[0])]\n",
    "    elif algo_name == 'SA':\n",
    "        best_stats = run_statistics[(run_statistics['Temperature'] == best_run_curve['Temperature'].iloc()[0])]\n",
    "    elif algo_name == 'GA':\n",
    "        best_stats = run_statistics[(run_statistics['Mutation Rate'] == best_run_curve['Mutation Rate'].iloc()[0]) & (run_statistics['Population Size'] == best_run_curve['Population Size'].iloc()[0])]\n",
    "    elif algo_name == 'MIMIC':\n",
    "        best_stats = run_statistics[(run_statistics['Keep Percent'] == best_run_curve['Keep Percent'].iloc()[0]) & (run_statistics['Population Size'] == best_run_curve['Population Size'].iloc()[0])]\n",
    "    best_stats['Algorithm'] = algo_name\n",
    "    return best_stats\n",
    "\n",
    "\n",
    "def get_fitness_score(problem_name, fitness):\n",
    "    if problem_name == 'n_queens':\n",
    "        fitness_score = 28 - fitness\n",
    "    elif problem_name == 'max_k':\n",
    "        fitness_score = 19 - fitness\n",
    "    elif problem_name == 'tsp':\n",
    "        fitness_score = float(1) / fitness\n",
    "    return fitness_score\n",
    "\n",
    "\n",
    "\n",
    "def plot_to_compare_performance(problem_name, results):\n",
    "    fig, ax = plt.subplots()\n",
    "\n",
    "  # plot each algorithm separately\n",
    "    for algorithm, group in results.groupby(\"Algorithm\"):\n",
    "        ax.plot(group[\"Iteration\"], group[\"Time\"], label=algorithm)\n",
    "\n",
    "  # set labels and title\n",
    "    ax.set_xlabel(\"Iteration\")\n",
    "    ax.set_ylabel(\"Time\")\n",
    "    ax.set_title(problem_name + \" Computation Time\")\n",
    "\n",
    "  # add legend\n",
    "    ax.legend()\n",
    "\n",
    "  # show plot\n",
    "    plt.show()\n",
    "\n",
    "    fig, ax = plt.subplots()\n",
    "  \n",
    "    for algorithm, group in results.groupby(\"Algorithm\"):\n",
    "        ax.plot(group[\"Iteration\"], group[\"Fitness\"], label=algorithm)\n",
    "\n",
    "  # set labels and title\n",
    "    ax.set_xlabel(\"Iteration\")\n",
    "    ax.set_ylabel(\"Fitness\")\n",
    "    ax.set_title(problem_name + \" Fitness Score\")\n",
    "\n",
    "  # add legend\n",
    "    ax.legend()\n",
    "\n",
    "  # show plot\n",
    "    plt.show()\n",
    "\n",
    "\n",
    "\n"
   ]
  },
  {
   "cell_type": "code",
   "execution_count": 42,
   "metadata": {
    "id": "k1a3aAzKqH78"
   },
   "outputs": [],
   "source": [
    "#set problem\n",
    "n_queens = QueensGenerator().generate(seed=123, size=8)\n",
    "max_k = MaxKColorGenerator().generate(seed=123, number_of_nodes=10, max_connections_per_node=3, max_colors=3)\n",
    "tsp = TSPGenerator().generate(seed=123, number_of_cities=20)"
   ]
  },
  {
   "cell_type": "code",
   "execution_count": 44,
   "metadata": {
    "colab": {
     "base_uri": "https://localhost:8080/"
    },
    "id": "Mr_DHV514vEY",
    "outputId": "830ec644-86ea-4c62-a789-3ff745739cc1"
   },
   "outputs": [
    {
     "name": "stdout",
     "output_type": "stream",
     "text": [
      "==================================================\n",
      "{'problem_name': 'n_queens', 'algo_name': 'RHC'}\n",
      "run stats\n",
      "best run curve\n",
      "best stats\n",
      "==================================================\n",
      "{'problem_name': 'n_queens', 'algo_name': 'SA'}\n",
      "run stats\n",
      "best run curve\n",
      "best stats\n",
      "==================================================\n",
      "{'problem_name': 'n_queens', 'algo_name': 'GA'}\n",
      "run stats\n",
      "best run curve\n",
      "best stats\n",
      "==================================================\n",
      "{'problem_name': 'n_queens', 'algo_name': 'MIMIC'}\n",
      "run stats\n",
      "best run curve\n",
      "best stats\n",
      "==================================================\n",
      "{'problem_name': 'max_k', 'algo_name': 'RHC'}\n",
      "run stats\n",
      "best run curve\n",
      "best stats\n",
      "==================================================\n",
      "{'problem_name': 'max_k', 'algo_name': 'SA'}\n",
      "run stats\n",
      "best run curve\n",
      "best stats\n",
      "==================================================\n",
      "{'problem_name': 'max_k', 'algo_name': 'GA'}\n",
      "run stats\n",
      "best run curve\n",
      "best stats\n",
      "==================================================\n",
      "{'problem_name': 'max_k', 'algo_name': 'MIMIC'}\n",
      "run stats\n",
      "best run curve\n",
      "best stats\n",
      "==================================================\n",
      "{'problem_name': 'tsp', 'algo_name': 'RHC'}\n",
      "run stats\n",
      "best run curve\n",
      "best stats\n",
      "==================================================\n",
      "{'problem_name': 'tsp', 'algo_name': 'SA'}\n",
      "run stats\n",
      "best run curve\n",
      "best stats\n",
      "==================================================\n",
      "{'problem_name': 'tsp', 'algo_name': 'GA'}\n",
      "run stats\n",
      "best run curve\n",
      "best stats\n",
      "==================================================\n",
      "{'problem_name': 'tsp', 'algo_name': 'MIMIC'}\n",
      "run stats\n",
      "best run curve\n",
      "best stats\n"
     ]
    }
   ],
   "source": [
    "problem_names = ['n_queens', 'max_k', 'tsp']\n",
    "problems = [n_queens, max_k, tsp]\n",
    "algos = ['RHC', 'SA', 'GA', 'MIMIC']\n",
    "\n",
    "problem_dict = {}\n",
    "\n",
    "for index in range(len(problem_names)):\n",
    "    pn = problem_names[index]\n",
    "    p = problems[index]\n",
    "    problem_dict[pn] = {}\n",
    "  #problem_dict[pn]['problem_name'] = pn\n",
    "    problem_dict[pn]['problem_info'] = p\n",
    "    problem_dict[pn]['algo_info'] = {}\n",
    "\n",
    "    for a_index in range(len(algos)):\n",
    "        a = algos[a_index]\n",
    "        print('='*50)\n",
    "        print({'problem_name': pn, 'algo_name': a})\n",
    "        problem_dict[pn]['algo_info'][a] = {}\n",
    "        print('run stats')\n",
    "        problem_dict[pn]['algo_info'][a]['run_statistics'], problem_dict[pn]['algo_info'][a]['run_curves'] =  get_algoritm_run_stats(a, p)\n",
    "        print('best run curve')\n",
    "        problem_dict[pn]['algo_info'][a]['best_run_curve'] = get_best_run_curve(problem_dict[pn]['algo_info'][a]['run_curves'])\n",
    "        print('best stats')\n",
    "        problem_dict[pn]['algo_info'][a]['best_stats_df'] = get_best_run_statistics(a, problem_dict[pn]['algo_info'][a]['best_run_curve'], problem_dict[pn]['algo_info'][a]['run_statistics'])\n",
    "#         print('fitness score')\n",
    "#         problem_dict[pn]['algo_info'][a]['best_stats_df'] = get_fitness_score(pn, problem_dict[pn]['algo_info'][a]['best_stats_df'])\n",
    "\n",
    "\n"
   ]
  },
  {
   "cell_type": "code",
   "execution_count": 62,
   "metadata": {},
   "outputs": [],
   "source": [
    "for index in range(len(problem_names)):\n",
    "    pn = problem_names[index]\n",
    "    for a_index in range(len(algos)):\n",
    "        a = algos[a_index]\n",
    "        problem_dict[pn]['algo_info'][a]['best_stats_df']['problem_name'] = pn\n",
    "        problem_dict[pn]['algo_info'][a]['best_stats_df']['fitness_score'] = get_fitness_score(pn, problem_dict[pn]['algo_info'][a]['best_stats_df']['Fitness'])    "
   ]
  },
  {
   "cell_type": "code",
   "execution_count": 60,
   "metadata": {},
   "outputs": [
    {
     "data": {
      "text/plain": [
       "{'run_statistics':      Iteration  Fitness  FEvals      Time                     State  Restarts  \\\n",
       " 0            0      4.0       0  0.002447  [1, 3, 5, 2, 4, 7, 6, 0]        10   \n",
       " 1            1      4.0       1  0.009295  [1, 3, 5, 2, 4, 7, 6, 0]        10   \n",
       " 2            2      4.0       2  0.012656  [1, 3, 5, 2, 4, 7, 6, 0]        10   \n",
       " 3            4      4.0       4  0.015352  [1, 3, 5, 2, 4, 7, 6, 0]        10   \n",
       " 4            8      3.0       9  0.017860  [1, 3, 5, 2, 4, 1, 6, 0]        10   \n",
       " ..         ...      ...     ...       ...                       ...       ...   \n",
       " 116         32      3.0    5193  6.713020  [5, 6, 4, 7, 2, 6, 3, 1]        10   \n",
       " 117         64      2.0    5226  6.793157  [0, 6, 4, 7, 2, 6, 3, 1]        10   \n",
       " 118        128      2.0    5290  6.946740  [0, 6, 4, 7, 2, 6, 3, 1]        10   \n",
       " 119        256      2.0    5418  7.249706  [0, 6, 4, 7, 2, 6, 3, 1]        10   \n",
       " 120        512      2.0    5674  7.869042  [0, 6, 4, 7, 2, 6, 3, 1]        10   \n",
       " \n",
       "      max_iters  current_restart  \n",
       " 0          512                0  \n",
       " 1          512                0  \n",
       " 2          512                0  \n",
       " 3          512                0  \n",
       " 4          512                0  \n",
       " ..         ...              ...  \n",
       " 116        512               10  \n",
       " 117        512               10  \n",
       " 118        512               10  \n",
       " 119        512               10  \n",
       " 120        512               10  \n",
       " \n",
       " [121 rows x 8 columns],\n",
       " 'run_curves':       Iteration      Time  Fitness  FEvals  Restarts  max_iters  \\\n",
       " 0             0  0.002447      4.0     0.0        10        512   \n",
       " 1             1  0.009295      4.0     1.0        10        512   \n",
       " 2             2  0.012656      4.0     2.0        10        512   \n",
       " 3             3  0.014848      4.0     3.0        10        512   \n",
       " 4             4  0.015352      4.0     4.0        10        512   \n",
       " ...         ...       ...      ...     ...       ...        ...   \n",
       " 5628        508  0.164422      2.0  5670.0        10        512   \n",
       " 5629        509  0.164796      2.0  5671.0        10        512   \n",
       " 5630        510  0.165167      2.0  5672.0        10        512   \n",
       " 5631        511  0.165530      2.0  5673.0        10        512   \n",
       " 5632        512  0.165893      2.0  5674.0        10        512   \n",
       " \n",
       "       current_restart  \n",
       " 0                   0  \n",
       " 1                   0  \n",
       " 2                   0  \n",
       " 3                   0  \n",
       " 4                   0  \n",
       " ...               ...  \n",
       " 5628               10  \n",
       " 5629               10  \n",
       " 5630               10  \n",
       " 5631               10  \n",
       " 5632               10  \n",
       " \n",
       " [5633 rows x 7 columns],\n",
       " 'best_run_curve':      Iteration      Time  Fitness  FEvals  Restarts  max_iters  \\\n",
       " 602         90  0.042581      1.0   609.0        10        512   \n",
       " \n",
       "      current_restart  \n",
       " 602                1  ,\n",
       " 'best_stats_df':     Iteration  Fitness  FEvals      Time                     State  Restarts  \\\n",
       " 11          0      7.0     514  0.167898  [2, 4, 5, 0, 5, 2, 7, 6]        10   \n",
       " 12          1      7.0     515  0.169555  [2, 4, 5, 0, 5, 2, 7, 6]        10   \n",
       " 13          2      7.0     516  0.171192  [2, 4, 5, 0, 5, 2, 7, 6]        10   \n",
       " 14          4      5.0     519  0.173334  [2, 4, 5, 0, 5, 5, 7, 6]        10   \n",
       " 15          8      4.0     524  0.176227  [2, 4, 5, 0, 2, 5, 7, 6]        10   \n",
       " 16         16      4.0     532  0.180466  [2, 4, 5, 0, 2, 5, 7, 6]        10   \n",
       " 17         32      4.0     548  0.187752  [2, 4, 5, 0, 2, 5, 7, 6]        10   \n",
       " 18         64      3.0     581  0.201522  [2, 4, 7, 0, 2, 5, 7, 6]        10   \n",
       " 19        128      1.0     647  0.230525  [1, 4, 7, 0, 2, 5, 2, 6]        10   \n",
       " 20        256      1.0     775  0.290476  [1, 4, 7, 0, 2, 5, 2, 6]        10   \n",
       " 21        512      1.0    1031  0.425720  [1, 4, 7, 0, 2, 5, 2, 6]        10   \n",
       " \n",
       "     max_iters  current_restart Algorithm  \n",
       " 11        512                1       RHC  \n",
       " 12        512                1       RHC  \n",
       " 13        512                1       RHC  \n",
       " 14        512                1       RHC  \n",
       " 15        512                1       RHC  \n",
       " 16        512                1       RHC  \n",
       " 17        512                1       RHC  \n",
       " 18        512                1       RHC  \n",
       " 19        512                1       RHC  \n",
       " 20        512                1       RHC  \n",
       " 21        512                1       RHC  }"
      ]
     },
     "execution_count": 60,
     "metadata": {},
     "output_type": "execute_result"
    }
   ],
   "source": [
    "problem_dict['n_queens']['algo_info']['RHC']"
   ]
  },
  {
   "cell_type": "code",
   "execution_count": 63,
   "metadata": {
    "id": "oEA0IBaSqH0I"
   },
   "outputs": [],
   "source": [
    "relevant_columns = ['problem_name', 'Algorithm', 'Iteration', 'Time', 'Fitness', 'FEvals']\n",
    "consolidated_algo_problem_df = pd.DataFrame()\n",
    "for index in range(len(problem_names)):\n",
    "    pn = problem_names[index]\n",
    "    for a_index in range(len(algos)):\n",
    "        a = algos[a_index]\n",
    "        df = problem_dict[pn]['algo_info'][a]['best_stats_df'][relevant_columns]\n",
    "        df['performance'] = df.apply(lambda x: get_fitness_score(x.problem_name, x.Fitness), axis=1)\n",
    "        #print(df.shape)\n",
    "        if df.shape != (0,0):\n",
    "            consolidated_algo_problem_df = pd.concat([consolidated_algo_problem_df,df])\n",
    "        else:\n",
    "            consolidated_algo_problem_df = df"
   ]
  },
  {
   "cell_type": "code",
   "execution_count": 69,
   "metadata": {},
   "outputs": [
    {
     "data": {
      "text/html": [
       "<div>\n",
       "<style scoped>\n",
       "    .dataframe tbody tr th:only-of-type {\n",
       "        vertical-align: middle;\n",
       "    }\n",
       "\n",
       "    .dataframe tbody tr th {\n",
       "        vertical-align: top;\n",
       "    }\n",
       "\n",
       "    .dataframe thead th {\n",
       "        text-align: right;\n",
       "    }\n",
       "</style>\n",
       "<table border=\"1\" class=\"dataframe\">\n",
       "  <thead>\n",
       "    <tr style=\"text-align: right;\">\n",
       "      <th></th>\n",
       "      <th>problem_name</th>\n",
       "      <th>Algorithm</th>\n",
       "      <th>Iteration</th>\n",
       "      <th>Time</th>\n",
       "      <th>Fitness</th>\n",
       "      <th>FEvals</th>\n",
       "      <th>performance</th>\n",
       "    </tr>\n",
       "  </thead>\n",
       "  <tbody>\n",
       "    <tr>\n",
       "      <th>11</th>\n",
       "      <td>n_queens</td>\n",
       "      <td>RHC</td>\n",
       "      <td>0</td>\n",
       "      <td>0.167898</td>\n",
       "      <td>7.0</td>\n",
       "      <td>514</td>\n",
       "      <td>7.0</td>\n",
       "    </tr>\n",
       "    <tr>\n",
       "      <th>12</th>\n",
       "      <td>n_queens</td>\n",
       "      <td>RHC</td>\n",
       "      <td>1</td>\n",
       "      <td>0.169555</td>\n",
       "      <td>7.0</td>\n",
       "      <td>515</td>\n",
       "      <td>7.0</td>\n",
       "    </tr>\n",
       "    <tr>\n",
       "      <th>13</th>\n",
       "      <td>n_queens</td>\n",
       "      <td>RHC</td>\n",
       "      <td>2</td>\n",
       "      <td>0.171192</td>\n",
       "      <td>7.0</td>\n",
       "      <td>516</td>\n",
       "      <td>7.0</td>\n",
       "    </tr>\n",
       "    <tr>\n",
       "      <th>14</th>\n",
       "      <td>n_queens</td>\n",
       "      <td>RHC</td>\n",
       "      <td>4</td>\n",
       "      <td>0.173334</td>\n",
       "      <td>5.0</td>\n",
       "      <td>519</td>\n",
       "      <td>5.0</td>\n",
       "    </tr>\n",
       "    <tr>\n",
       "      <th>15</th>\n",
       "      <td>n_queens</td>\n",
       "      <td>RHC</td>\n",
       "      <td>8</td>\n",
       "      <td>0.176227</td>\n",
       "      <td>4.0</td>\n",
       "      <td>524</td>\n",
       "      <td>4.0</td>\n",
       "    </tr>\n",
       "    <tr>\n",
       "      <th>16</th>\n",
       "      <td>n_queens</td>\n",
       "      <td>RHC</td>\n",
       "      <td>16</td>\n",
       "      <td>0.180466</td>\n",
       "      <td>4.0</td>\n",
       "      <td>532</td>\n",
       "      <td>4.0</td>\n",
       "    </tr>\n",
       "    <tr>\n",
       "      <th>17</th>\n",
       "      <td>n_queens</td>\n",
       "      <td>RHC</td>\n",
       "      <td>32</td>\n",
       "      <td>0.187752</td>\n",
       "      <td>4.0</td>\n",
       "      <td>548</td>\n",
       "      <td>4.0</td>\n",
       "    </tr>\n",
       "    <tr>\n",
       "      <th>18</th>\n",
       "      <td>n_queens</td>\n",
       "      <td>RHC</td>\n",
       "      <td>64</td>\n",
       "      <td>0.201522</td>\n",
       "      <td>3.0</td>\n",
       "      <td>581</td>\n",
       "      <td>3.0</td>\n",
       "    </tr>\n",
       "    <tr>\n",
       "      <th>19</th>\n",
       "      <td>n_queens</td>\n",
       "      <td>RHC</td>\n",
       "      <td>128</td>\n",
       "      <td>0.230525</td>\n",
       "      <td>1.0</td>\n",
       "      <td>647</td>\n",
       "      <td>1.0</td>\n",
       "    </tr>\n",
       "    <tr>\n",
       "      <th>20</th>\n",
       "      <td>n_queens</td>\n",
       "      <td>RHC</td>\n",
       "      <td>256</td>\n",
       "      <td>0.290476</td>\n",
       "      <td>1.0</td>\n",
       "      <td>775</td>\n",
       "      <td>1.0</td>\n",
       "    </tr>\n",
       "    <tr>\n",
       "      <th>21</th>\n",
       "      <td>n_queens</td>\n",
       "      <td>RHC</td>\n",
       "      <td>512</td>\n",
       "      <td>0.425720</td>\n",
       "      <td>1.0</td>\n",
       "      <td>1031</td>\n",
       "      <td>1.0</td>\n",
       "    </tr>\n",
       "    <tr>\n",
       "      <th>11</th>\n",
       "      <td>n_queens</td>\n",
       "      <td>SA</td>\n",
       "      <td>0</td>\n",
       "      <td>0.000349</td>\n",
       "      <td>6.0</td>\n",
       "      <td>0</td>\n",
       "      <td>6.0</td>\n",
       "    </tr>\n",
       "    <tr>\n",
       "      <th>12</th>\n",
       "      <td>n_queens</td>\n",
       "      <td>SA</td>\n",
       "      <td>1</td>\n",
       "      <td>0.001907</td>\n",
       "      <td>6.0</td>\n",
       "      <td>2</td>\n",
       "      <td>6.0</td>\n",
       "    </tr>\n",
       "    <tr>\n",
       "      <th>13</th>\n",
       "      <td>n_queens</td>\n",
       "      <td>SA</td>\n",
       "      <td>2</td>\n",
       "      <td>0.003454</td>\n",
       "      <td>4.0</td>\n",
       "      <td>4</td>\n",
       "      <td>4.0</td>\n",
       "    </tr>\n",
       "    <tr>\n",
       "      <th>14</th>\n",
       "      <td>n_queens</td>\n",
       "      <td>SA</td>\n",
       "      <td>4</td>\n",
       "      <td>0.005306</td>\n",
       "      <td>4.0</td>\n",
       "      <td>8</td>\n",
       "      <td>4.0</td>\n",
       "    </tr>\n",
       "    <tr>\n",
       "      <th>15</th>\n",
       "      <td>n_queens</td>\n",
       "      <td>SA</td>\n",
       "      <td>8</td>\n",
       "      <td>0.007369</td>\n",
       "      <td>5.0</td>\n",
       "      <td>13</td>\n",
       "      <td>5.0</td>\n",
       "    </tr>\n",
       "    <tr>\n",
       "      <th>16</th>\n",
       "      <td>n_queens</td>\n",
       "      <td>SA</td>\n",
       "      <td>16</td>\n",
       "      <td>0.010409</td>\n",
       "      <td>3.0</td>\n",
       "      <td>24</td>\n",
       "      <td>3.0</td>\n",
       "    </tr>\n",
       "    <tr>\n",
       "      <th>17</th>\n",
       "      <td>n_queens</td>\n",
       "      <td>SA</td>\n",
       "      <td>32</td>\n",
       "      <td>0.015457</td>\n",
       "      <td>4.0</td>\n",
       "      <td>47</td>\n",
       "      <td>4.0</td>\n",
       "    </tr>\n",
       "    <tr>\n",
       "      <th>18</th>\n",
       "      <td>n_queens</td>\n",
       "      <td>SA</td>\n",
       "      <td>64</td>\n",
       "      <td>0.023228</td>\n",
       "      <td>1.0</td>\n",
       "      <td>83</td>\n",
       "      <td>1.0</td>\n",
       "    </tr>\n",
       "    <tr>\n",
       "      <th>19</th>\n",
       "      <td>n_queens</td>\n",
       "      <td>SA</td>\n",
       "      <td>128</td>\n",
       "      <td>0.025487</td>\n",
       "      <td>0.0</td>\n",
       "      <td>88</td>\n",
       "      <td>0.0</td>\n",
       "    </tr>\n",
       "    <tr>\n",
       "      <th>20</th>\n",
       "      <td>n_queens</td>\n",
       "      <td>SA</td>\n",
       "      <td>256</td>\n",
       "      <td>0.025487</td>\n",
       "      <td>0.0</td>\n",
       "      <td>88</td>\n",
       "      <td>0.0</td>\n",
       "    </tr>\n",
       "    <tr>\n",
       "      <th>21</th>\n",
       "      <td>n_queens</td>\n",
       "      <td>SA</td>\n",
       "      <td>512</td>\n",
       "      <td>0.025487</td>\n",
       "      <td>0.0</td>\n",
       "      <td>88</td>\n",
       "      <td>0.0</td>\n",
       "    </tr>\n",
       "    <tr>\n",
       "      <th>33</th>\n",
       "      <td>n_queens</td>\n",
       "      <td>GA</td>\n",
       "      <td>0</td>\n",
       "      <td>0.001880</td>\n",
       "      <td>9.0</td>\n",
       "      <td>10</td>\n",
       "      <td>9.0</td>\n",
       "    </tr>\n",
       "    <tr>\n",
       "      <th>34</th>\n",
       "      <td>n_queens</td>\n",
       "      <td>GA</td>\n",
       "      <td>1</td>\n",
       "      <td>0.006321</td>\n",
       "      <td>2.0</td>\n",
       "      <td>22</td>\n",
       "      <td>2.0</td>\n",
       "    </tr>\n",
       "    <tr>\n",
       "      <th>35</th>\n",
       "      <td>n_queens</td>\n",
       "      <td>GA</td>\n",
       "      <td>2</td>\n",
       "      <td>0.010659</td>\n",
       "      <td>2.0</td>\n",
       "      <td>33</td>\n",
       "      <td>2.0</td>\n",
       "    </tr>\n",
       "    <tr>\n",
       "      <th>36</th>\n",
       "      <td>n_queens</td>\n",
       "      <td>GA</td>\n",
       "      <td>4</td>\n",
       "      <td>0.016886</td>\n",
       "      <td>2.0</td>\n",
       "      <td>55</td>\n",
       "      <td>2.0</td>\n",
       "    </tr>\n",
       "    <tr>\n",
       "      <th>37</th>\n",
       "      <td>n_queens</td>\n",
       "      <td>GA</td>\n",
       "      <td>8</td>\n",
       "      <td>0.026887</td>\n",
       "      <td>2.0</td>\n",
       "      <td>99</td>\n",
       "      <td>2.0</td>\n",
       "    </tr>\n",
       "    <tr>\n",
       "      <th>38</th>\n",
       "      <td>n_queens</td>\n",
       "      <td>GA</td>\n",
       "      <td>16</td>\n",
       "      <td>0.044425</td>\n",
       "      <td>2.0</td>\n",
       "      <td>187</td>\n",
       "      <td>2.0</td>\n",
       "    </tr>\n",
       "    <tr>\n",
       "      <th>39</th>\n",
       "      <td>n_queens</td>\n",
       "      <td>GA</td>\n",
       "      <td>32</td>\n",
       "      <td>0.077384</td>\n",
       "      <td>1.0</td>\n",
       "      <td>364</td>\n",
       "      <td>1.0</td>\n",
       "    </tr>\n",
       "    <tr>\n",
       "      <th>40</th>\n",
       "      <td>n_queens</td>\n",
       "      <td>GA</td>\n",
       "      <td>64</td>\n",
       "      <td>0.085648</td>\n",
       "      <td>0.0</td>\n",
       "      <td>398</td>\n",
       "      <td>0.0</td>\n",
       "    </tr>\n",
       "    <tr>\n",
       "      <th>41</th>\n",
       "      <td>n_queens</td>\n",
       "      <td>GA</td>\n",
       "      <td>128</td>\n",
       "      <td>0.085648</td>\n",
       "      <td>0.0</td>\n",
       "      <td>398</td>\n",
       "      <td>0.0</td>\n",
       "    </tr>\n",
       "    <tr>\n",
       "      <th>42</th>\n",
       "      <td>n_queens</td>\n",
       "      <td>GA</td>\n",
       "      <td>256</td>\n",
       "      <td>0.085648</td>\n",
       "      <td>0.0</td>\n",
       "      <td>398</td>\n",
       "      <td>0.0</td>\n",
       "    </tr>\n",
       "    <tr>\n",
       "      <th>43</th>\n",
       "      <td>n_queens</td>\n",
       "      <td>GA</td>\n",
       "      <td>512</td>\n",
       "      <td>0.085648</td>\n",
       "      <td>0.0</td>\n",
       "      <td>398</td>\n",
       "      <td>0.0</td>\n",
       "    </tr>\n",
       "    <tr>\n",
       "      <th>55</th>\n",
       "      <td>n_queens</td>\n",
       "      <td>MIMIC</td>\n",
       "      <td>0</td>\n",
       "      <td>0.015434</td>\n",
       "      <td>6.0</td>\n",
       "      <td>100</td>\n",
       "      <td>6.0</td>\n",
       "    </tr>\n",
       "    <tr>\n",
       "      <th>56</th>\n",
       "      <td>n_queens</td>\n",
       "      <td>MIMIC</td>\n",
       "      <td>1</td>\n",
       "      <td>0.039490</td>\n",
       "      <td>3.0</td>\n",
       "      <td>202</td>\n",
       "      <td>3.0</td>\n",
       "    </tr>\n",
       "    <tr>\n",
       "      <th>57</th>\n",
       "      <td>n_queens</td>\n",
       "      <td>MIMIC</td>\n",
       "      <td>2</td>\n",
       "      <td>0.063449</td>\n",
       "      <td>1.0</td>\n",
       "      <td>304</td>\n",
       "      <td>1.0</td>\n",
       "    </tr>\n",
       "    <tr>\n",
       "      <th>58</th>\n",
       "      <td>n_queens</td>\n",
       "      <td>MIMIC</td>\n",
       "      <td>4</td>\n",
       "      <td>0.105718</td>\n",
       "      <td>1.0</td>\n",
       "      <td>506</td>\n",
       "      <td>1.0</td>\n",
       "    </tr>\n",
       "    <tr>\n",
       "      <th>59</th>\n",
       "      <td>n_queens</td>\n",
       "      <td>MIMIC</td>\n",
       "      <td>8</td>\n",
       "      <td>0.185426</td>\n",
       "      <td>1.0</td>\n",
       "      <td>910</td>\n",
       "      <td>1.0</td>\n",
       "    </tr>\n",
       "    <tr>\n",
       "      <th>60</th>\n",
       "      <td>n_queens</td>\n",
       "      <td>MIMIC</td>\n",
       "      <td>16</td>\n",
       "      <td>0.342154</td>\n",
       "      <td>1.0</td>\n",
       "      <td>1718</td>\n",
       "      <td>1.0</td>\n",
       "    </tr>\n",
       "    <tr>\n",
       "      <th>61</th>\n",
       "      <td>n_queens</td>\n",
       "      <td>MIMIC</td>\n",
       "      <td>32</td>\n",
       "      <td>0.650533</td>\n",
       "      <td>1.0</td>\n",
       "      <td>3334</td>\n",
       "      <td>1.0</td>\n",
       "    </tr>\n",
       "    <tr>\n",
       "      <th>62</th>\n",
       "      <td>n_queens</td>\n",
       "      <td>MIMIC</td>\n",
       "      <td>64</td>\n",
       "      <td>1.263501</td>\n",
       "      <td>1.0</td>\n",
       "      <td>6566</td>\n",
       "      <td>1.0</td>\n",
       "    </tr>\n",
       "    <tr>\n",
       "      <th>63</th>\n",
       "      <td>n_queens</td>\n",
       "      <td>MIMIC</td>\n",
       "      <td>128</td>\n",
       "      <td>2.495887</td>\n",
       "      <td>1.0</td>\n",
       "      <td>13030</td>\n",
       "      <td>1.0</td>\n",
       "    </tr>\n",
       "    <tr>\n",
       "      <th>64</th>\n",
       "      <td>n_queens</td>\n",
       "      <td>MIMIC</td>\n",
       "      <td>256</td>\n",
       "      <td>4.948307</td>\n",
       "      <td>1.0</td>\n",
       "      <td>25958</td>\n",
       "      <td>1.0</td>\n",
       "    </tr>\n",
       "    <tr>\n",
       "      <th>65</th>\n",
       "      <td>n_queens</td>\n",
       "      <td>MIMIC</td>\n",
       "      <td>512</td>\n",
       "      <td>9.867446</td>\n",
       "      <td>1.0</td>\n",
       "      <td>51814</td>\n",
       "      <td>1.0</td>\n",
       "    </tr>\n",
       "  </tbody>\n",
       "</table>\n",
       "</div>"
      ],
      "text/plain": [
       "   problem_name Algorithm  Iteration      Time  Fitness  FEvals  performance\n",
       "11     n_queens       RHC          0  0.167898      7.0     514          7.0\n",
       "12     n_queens       RHC          1  0.169555      7.0     515          7.0\n",
       "13     n_queens       RHC          2  0.171192      7.0     516          7.0\n",
       "14     n_queens       RHC          4  0.173334      5.0     519          5.0\n",
       "15     n_queens       RHC          8  0.176227      4.0     524          4.0\n",
       "16     n_queens       RHC         16  0.180466      4.0     532          4.0\n",
       "17     n_queens       RHC         32  0.187752      4.0     548          4.0\n",
       "18     n_queens       RHC         64  0.201522      3.0     581          3.0\n",
       "19     n_queens       RHC        128  0.230525      1.0     647          1.0\n",
       "20     n_queens       RHC        256  0.290476      1.0     775          1.0\n",
       "21     n_queens       RHC        512  0.425720      1.0    1031          1.0\n",
       "11     n_queens        SA          0  0.000349      6.0       0          6.0\n",
       "12     n_queens        SA          1  0.001907      6.0       2          6.0\n",
       "13     n_queens        SA          2  0.003454      4.0       4          4.0\n",
       "14     n_queens        SA          4  0.005306      4.0       8          4.0\n",
       "15     n_queens        SA          8  0.007369      5.0      13          5.0\n",
       "16     n_queens        SA         16  0.010409      3.0      24          3.0\n",
       "17     n_queens        SA         32  0.015457      4.0      47          4.0\n",
       "18     n_queens        SA         64  0.023228      1.0      83          1.0\n",
       "19     n_queens        SA        128  0.025487      0.0      88          0.0\n",
       "20     n_queens        SA        256  0.025487      0.0      88          0.0\n",
       "21     n_queens        SA        512  0.025487      0.0      88          0.0\n",
       "33     n_queens        GA          0  0.001880      9.0      10          9.0\n",
       "34     n_queens        GA          1  0.006321      2.0      22          2.0\n",
       "35     n_queens        GA          2  0.010659      2.0      33          2.0\n",
       "36     n_queens        GA          4  0.016886      2.0      55          2.0\n",
       "37     n_queens        GA          8  0.026887      2.0      99          2.0\n",
       "38     n_queens        GA         16  0.044425      2.0     187          2.0\n",
       "39     n_queens        GA         32  0.077384      1.0     364          1.0\n",
       "40     n_queens        GA         64  0.085648      0.0     398          0.0\n",
       "41     n_queens        GA        128  0.085648      0.0     398          0.0\n",
       "42     n_queens        GA        256  0.085648      0.0     398          0.0\n",
       "43     n_queens        GA        512  0.085648      0.0     398          0.0\n",
       "55     n_queens     MIMIC          0  0.015434      6.0     100          6.0\n",
       "56     n_queens     MIMIC          1  0.039490      3.0     202          3.0\n",
       "57     n_queens     MIMIC          2  0.063449      1.0     304          1.0\n",
       "58     n_queens     MIMIC          4  0.105718      1.0     506          1.0\n",
       "59     n_queens     MIMIC          8  0.185426      1.0     910          1.0\n",
       "60     n_queens     MIMIC         16  0.342154      1.0    1718          1.0\n",
       "61     n_queens     MIMIC         32  0.650533      1.0    3334          1.0\n",
       "62     n_queens     MIMIC         64  1.263501      1.0    6566          1.0\n",
       "63     n_queens     MIMIC        128  2.495887      1.0   13030          1.0\n",
       "64     n_queens     MIMIC        256  4.948307      1.0   25958          1.0\n",
       "65     n_queens     MIMIC        512  9.867446      1.0   51814          1.0"
      ]
     },
     "execution_count": 69,
     "metadata": {},
     "output_type": "execute_result"
    }
   ],
   "source": [
    "consolidated_algo_problem_df[consolidated_algo_problem_df['problem_name'] == 'n_queens']"
   ]
  },
  {
   "cell_type": "code",
   "execution_count": 68,
   "metadata": {
    "colab": {
     "base_uri": "https://localhost:8080/",
     "height": 1000
    },
    "id": "p2Exc-9BqHxg",
    "outputId": "9bf55b97-0e0b-4682-f642-1d96d014a5d0"
   },
   "outputs": [
    {
     "name": "stdout",
     "output_type": "stream",
     "text": [
      "Plots for Problem type: n_queens\n"
     ]
    },
    {
     "data": {
      "image/png": "[encoded data removed]",
      "text/plain": [
       "<Figure size 640x480 with 1 Axes>"
      ]
     },
     "metadata": {},
     "output_type": "display_data"
    },
    {
     "data": {
      "image/png": "[encoded data removed]",
      "text/plain": [
       "<Figure size 640x480 with 1 Axes>"
      ]
     },
     "metadata": {},
     "output_type": "display_data"
    },
    {
     "name": "stdout",
     "output_type": "stream",
     "text": [
      "Plots for Problem type: max_k\n"
     ]
    },
    {
     "data": {
      "image/png": "[encoded data removed]",
      "text/plain": [
       "<Figure size 640x480 with 1 Axes>"
      ]
     },
     "metadata": {},
     "output_type": "display_data"
    },
    {
     "data": {
      "image/png": "[encoded data removed]",
      "text/plain": [
       "<Figure size 640x480 with 1 Axes>"
      ]
     },
     "metadata": {},
     "output_type": "display_data"
    },
    {
     "name": "stdout",
     "output_type": "stream",
     "text": [
      "Plots for Problem type: tsp\n"
     ]
    },
    {
     "data": {
      "image/png": "[encoded data removed]",
      "text/plain": [
       "<Figure size 640x480 with 1 Axes>"
      ]
     },
     "metadata": {},
     "output_type": "display_data"
    },
    {
     "data": {
      "image/png": "[encoded data removed]",
      "text/plain": [
       "<Figure size 640x480 with 1 Axes>"
      ]
     },
     "metadata": {},
     "output_type": "display_data"
    }
   ],
   "source": [
    "for index in range(len(problem_names)):\n",
    "    pn = problem_names[index]\n",
    "    res = consolidated_algo_problem_df[consolidated_algo_problem_df['problem_name'] == pn]\n",
    "    print('Plots for Problem type: ' + pn)\n",
    "    plot_to_compare_performance(pn, res)\n",
    "#problem_dict['n_queens']['algo_info']['SA']['best_stats_df'].columns"
   ]
  },
  {
   "cell_type": "code",
   "execution_count": null,
   "metadata": {
    "id": "aesLEQzeqHu6"
   },
   "outputs": [],
   "source": [
    "#neural network"
   ]
  },
  {
   "cell_type": "code",
   "execution_count": 2,
   "metadata": {
    "colab": {
     "base_uri": "https://localhost:8080/",
     "height": 73
    },
    "id": "V8C5-ieAaH1U",
    "outputId": "7103f32a-01e5-44a2-9daf-db8508d21059"
   },
   "outputs": [],
   "source": [
    "# from google.colab import files\n",
    "# import io\n",
    "# import pandas as pd\n",
    "# uploaded = files.upload()\n",
    "# diabetes = pd.read_csv(io.BytesIO(uploaded['diabetes.csv']))\n",
    "# Dataset is now stored in a Pandas Dataframe\n",
    "diabetes = pd.read_csv('diabetes.csv')"
   ]
  },
  {
   "cell_type": "code",
   "execution_count": 3,
   "metadata": {
    "colab": {
     "base_uri": "https://localhost:8080/",
     "height": 206
    },
    "id": "1TreGOrLa4Pf",
    "outputId": "a5788977-0a1a-4b58-c5bd-6e86931efa10"
   },
   "outputs": [
    {
     "data": {
      "text/html": [
       "<div>\n",
       "<style scoped>\n",
       "    .dataframe tbody tr th:only-of-type {\n",
       "        vertical-align: middle;\n",
       "    }\n",
       "\n",
       "    .dataframe tbody tr th {\n",
       "        vertical-align: top;\n",
       "    }\n",
       "\n",
       "    .dataframe thead th {\n",
       "        text-align: right;\n",
       "    }\n",
       "</style>\n",
       "<table border=\"1\" class=\"dataframe\">\n",
       "  <thead>\n",
       "    <tr style=\"text-align: right;\">\n",
       "      <th></th>\n",
       "      <th>Pregnancies</th>\n",
       "      <th>Glucose</th>\n",
       "      <th>BloodPressure</th>\n",
       "      <th>SkinThickness</th>\n",
       "      <th>Insulin</th>\n",
       "      <th>BMI</th>\n",
       "      <th>DiabetesPedigreeFunction</th>\n",
       "      <th>Age</th>\n",
       "      <th>Outcome</th>\n",
       "    </tr>\n",
       "  </thead>\n",
       "  <tbody>\n",
       "    <tr>\n",
       "      <th>0</th>\n",
       "      <td>6</td>\n",
       "      <td>148</td>\n",
       "      <td>72</td>\n",
       "      <td>35</td>\n",
       "      <td>0</td>\n",
       "      <td>33.6</td>\n",
       "      <td>0.627</td>\n",
       "      <td>50</td>\n",
       "      <td>1</td>\n",
       "    </tr>\n",
       "    <tr>\n",
       "      <th>1</th>\n",
       "      <td>1</td>\n",
       "      <td>85</td>\n",
       "      <td>66</td>\n",
       "      <td>29</td>\n",
       "      <td>0</td>\n",
       "      <td>26.6</td>\n",
       "      <td>0.351</td>\n",
       "      <td>31</td>\n",
       "      <td>0</td>\n",
       "    </tr>\n",
       "    <tr>\n",
       "      <th>2</th>\n",
       "      <td>8</td>\n",
       "      <td>183</td>\n",
       "      <td>64</td>\n",
       "      <td>0</td>\n",
       "      <td>0</td>\n",
       "      <td>23.3</td>\n",
       "      <td>0.672</td>\n",
       "      <td>32</td>\n",
       "      <td>1</td>\n",
       "    </tr>\n",
       "    <tr>\n",
       "      <th>3</th>\n",
       "      <td>1</td>\n",
       "      <td>89</td>\n",
       "      <td>66</td>\n",
       "      <td>23</td>\n",
       "      <td>94</td>\n",
       "      <td>28.1</td>\n",
       "      <td>0.167</td>\n",
       "      <td>21</td>\n",
       "      <td>0</td>\n",
       "    </tr>\n",
       "    <tr>\n",
       "      <th>4</th>\n",
       "      <td>0</td>\n",
       "      <td>137</td>\n",
       "      <td>40</td>\n",
       "      <td>35</td>\n",
       "      <td>168</td>\n",
       "      <td>43.1</td>\n",
       "      <td>2.288</td>\n",
       "      <td>33</td>\n",
       "      <td>1</td>\n",
       "    </tr>\n",
       "  </tbody>\n",
       "</table>\n",
       "</div>"
      ],
      "text/plain": [
       "   Pregnancies  Glucose  BloodPressure  SkinThickness  Insulin   BMI  \\\n",
       "0            6      148             72             35        0  33.6   \n",
       "1            1       85             66             29        0  26.6   \n",
       "2            8      183             64              0        0  23.3   \n",
       "3            1       89             66             23       94  28.1   \n",
       "4            0      137             40             35      168  43.1   \n",
       "\n",
       "   DiabetesPedigreeFunction  Age  Outcome  \n",
       "0                     0.627   50        1  \n",
       "1                     0.351   31        0  \n",
       "2                     0.672   32        1  \n",
       "3                     0.167   21        0  \n",
       "4                     2.288   33        1  "
      ]
     },
     "execution_count": 3,
     "metadata": {},
     "output_type": "execute_result"
    }
   ],
   "source": [
    "diabetes.head()"
   ]
  },
  {
   "cell_type": "code",
   "execution_count": 4,
   "metadata": {
    "colab": {
     "base_uri": "https://localhost:8080/",
     "height": 236
    },
    "id": "L5eXFWdDXrkM",
    "outputId": "1982b7f0-486c-4581-ce90-3a17e57058b0"
   },
   "outputs": [],
   "source": [
    "def drop_duplicate_rows(df):\n",
    "    return df.drop_duplicates(keep='first')\n",
    "\n",
    "def normalize_features(df):\n",
    "    scaler = MinMaxScaler()\n",
    "    df_scaled = scaler.fit_transform(df)\n",
    "    df_scaled = pd.DataFrame(df_scaled, columns=df.columns)\n",
    "    return df_scaled\n",
    "\n",
    "def split_dataset(df, target_col):\n",
    "    train_df, test_df = train_test_split(df, test_size=0.2, random_state=0)\n",
    "    X_train, X_test = train_df.drop(target_col, axis=1), test_df.drop(target_col, axis=1)\n",
    "    y_train, y_test = train_df[target_col], test_df[target_col]\n",
    "    return X_train, y_train, X_test, y_test\n",
    "\n",
    "diabetes = autoclean(diabetes)\n",
    "diabetes = drop_duplicate_rows(diabetes)\n",
    "diabetes = normalize_features(diabetes)\n",
    "X_train, y_train,  X_test, y_test, = split_dataset(diabetes, 'Outcome')"
   ]
  },
  {
   "cell_type": "code",
   "execution_count": 69,
   "metadata": {
    "id": "1g5k8TY6m3E_"
   },
   "outputs": [],
   "source": [
    "nn_algo_name_object_map = {'gradient_descent': 'gradient_descent',\n",
    "                           'RHC': 'random_hill_climb',\n",
    "                           'SA': 'simulated_annealing',\n",
    "                           'GA' : 'genetic_alg'\n",
    "                           }\n",
    "# nn_grid_search_parameters = {\n",
    "#     'max_iters': [1000],                         \n",
    "#     'learning_rate': [1e-1, 1e-2],                      \n",
    "#     'activation': [mlrose_hiive.relu],            \n",
    "#     'restarts': [10],\n",
    "# }\n",
    "\n",
    "\n",
    "# def nn_builder(algo_name, X_train, y_train, X_test, y_test):\n",
    "#   nn = NNGSRunner(\n",
    "#     x_train=X_train,\n",
    "#     y_train=y_train,\n",
    "#     x_test=X_test,\n",
    "#     y_test=y_test,\n",
    "#     experiment_name='nn_experiment_' + algo_name,\n",
    "#     algorithm=nn_algo_name_object_map[algo_name],\n",
    "#     grid_search_parameters=nn_grid_search_parameters,\n",
    "#     iteration_list=[1, 10, 50, 100, 500, 1000],\n",
    "#     hidden_layer_sizes=[[3]],\n",
    "#     bias=True,\n",
    "#     early_stopping=True,\n",
    "#     clip_max=5,\n",
    "#     max_attempts=500,\n",
    "#     n_jobs=-1,\n",
    "#     seed=123,\n",
    "#     output_directory=None\n",
    "# )\n",
    "#   return nn\n",
    "  \n",
    "\n",
    "def nn_builder(algo_name = 'random_hill_climb', activation_type = 'relu', hidden_nodes_n = 2, learning_rate_n = 0.0001, restarts_n = 0, pop_size_n = 200, schedule_n =  mlrose.GeomDecay()):\n",
    "    nn_model = mlrose.NeuralNetwork(hidden_nodes = [hidden_nodes_n], activation = activation_type, \n",
    "                                 algorithm = algo_name, \n",
    "                                 max_iters = 1000, bias = True, is_classifier = True, \n",
    "                                 learning_rate = learning_rate_n, early_stopping = True, \n",
    "                                 clip_max = 5, max_attempts = 100, random_state = 3, restarts = restarts_n, pop_size = pop_size_n)\n",
    "    return nn_model\n",
    "\n",
    "\n",
    "def get_time_curve(nn_model, X, y):\n",
    "    train_sizes, train_times, test_times = [], [], []\n",
    "    for frac in np.linspace(0.1, 1.0, 10):\n",
    "        n = int(frac * len(X))\n",
    "        X_sub, y_sub = X[:n], y[:n]\n",
    "        start_time = time.time()\n",
    "        nn_model.fit(X_sub, y_sub)\n",
    "        train_time = time.time() - start_time\n",
    "        train_times.append(train_time)\n",
    "        start_time = time.time()\n",
    "        nn_model.predict(X_sub)\n",
    "        test_time = time.time() - start_time\n",
    "        test_times.append(test_time)\n",
    "        train_sizes.append(n)\n",
    "    return train_sizes, train_times, test_times\n",
    "\n",
    "def plot_time_curves(algo_train_times, algo_test_times):\n",
    "    fig, (ax1, ax2) = plt.subplots(1, 2, figsize=(10,5))\n",
    "    for algo in algo_train_times.keys():\n",
    "        ax1.plot(algo_train_times[algo][0], algo_train_times[algo][1], 'o-', label=algo)\n",
    "        ax2.plot(algo_test_times[algo][0], algo_test_times[algo][1], 'o-', label=algo)\n",
    "    ax1.set_xlabel(\"Training Size\")\n",
    "    ax1.set_ylabel(\"Training Time (seconds)\")\n",
    "    ax1.legend(loc=\"best\")\n",
    "    ax2.set_xlabel(\"Training Size\")\n",
    "    ax2.set_ylabel(\"Prediction Time (seconds)\")\n",
    "    ax2.legend(loc=\"best\")\n",
    "    plt.show()\n",
    "\n",
    "\n",
    "def plot_learning_curve(models, X_train, y_train):\n",
    "    \"\"\"Plot the learning curve for neural network models with the specified optimization algorithms.\"\"\"\n",
    "    fig, axs = plt.subplots(2, 2, figsize=(14, 10))\n",
    "    axs = axs.ravel()\n",
    "    for i, (algo_name, nn_model) in enumerate(models.items()):\n",
    "        nn_model.fit(X_train, y_train)\n",
    "        train_sizes, train_scores, test_scores = learning_curve(nn_model, X_train, y_train, cv=5, scoring='f1_weighted')\n",
    "        train_mean = np.mean(train_scores, axis=1)\n",
    "        train_std = np.std(train_scores, axis=1)\n",
    "        test_mean = np.mean(test_scores, axis=1)\n",
    "        test_std = np.std(test_scores, axis=1)\n",
    "        axs[i].plot(train_sizes, train_mean, 'o-', label=f'Training score ({algo_name})')\n",
    "        axs[i].plot(train_sizes, test_mean, 'o-', label=f'Cross-validation score ({algo_name})')\n",
    "        axs[i].fill_between(train_sizes, train_mean - train_std, train_mean + train_std, alpha=0.1)\n",
    "        axs[i].fill_between(train_sizes, test_mean - test_std, test_mean + test_std, alpha=0.1)\n",
    "        axs[i].set_xlabel('Number of training examples')\n",
    "        axs[i].set_ylabel('Weighted F1 Score')\n",
    "        axs[i].set_title(f'Learning curves for Neural Network with {algo_name} optimization')\n",
    "        axs[i].legend(loc='best')\n",
    "    plt.show()\n",
    "\n",
    "def plot_generalization_performance(models,X_train, y_train, X_test, y_test):\n",
    "    scores = {}\n",
    "    for algo, nn_model in models.items():\n",
    "        nn_model.fit(X_train, y_train)\n",
    "        y_pred = nn_model.predict(X_test)\n",
    "        score = f1_score(y_test, y_pred, average='weighted')\n",
    "        scores[algo] = score\n",
    "\n",
    "    fig, ax = plt.subplots(figsize=(8,6))\n",
    "    ax.bar(scores.keys(), scores.values())\n",
    "    ax.set_xlabel('Optimization Algorithm')\n",
    "    ax.set_ylabel('Weighted F1 Score')\n",
    "    ax.set_title('Generalization Performance of Neural Network Models')\n",
    "    plt.show()\n",
    "\n",
    "def plot_loss_vs_iterations(models, x_train, y_train):\n",
    "    plt.figure(figsize=(8,6))\n",
    "    for algo, nn_model in models.items():\n",
    "        nn_model.fit(x_train, y_train)\n",
    "        fc = nn_model.fitness_curve\n",
    "        print(fc)\n",
    "        plt.plot(fc, label=f\"{algo} optimization\")\n",
    "    plt.xlabel('Iteration')\n",
    "    plt.ylabel('Loss')\n",
    "    plt.title('Loss vs Iterations for Neural Networks with different optimizations')\n",
    "    plt.legend(loc='best')\n",
    "    plt.show()\n",
    "# def get_convergence_data(nn_model, x_train, y_train):\n",
    "#     \"\"\"Returns the convergence data for a neural network model with the specified optimization algorithm.\"\"\"\n",
    "#     nn_model.fit(x_train, y_train)\n",
    "#     return nn_model.fitness_curve\n",
    "\n",
    "# def plot_convergence(models, x_train, y_train):\n",
    "#     \"\"\"Plot the convergence of neural network models with the specified optimization algorithms.\"\"\"\n",
    "#     plt.figure(figsize=(8,6))\n",
    "#     for algo, nn_model in models.items():\n",
    "#         train_loss = get_convergence_data(nn_model, x_train, y_train)\n",
    "#         plt.plot(train_loss, label=f\"{algo} optimization\")\n",
    "#     plt.xlabel('Iteration')\n",
    "#     plt.ylabel('Loss')\n",
    "#     plt.title('Convergence plot for Neural Networks with different optimizations')\n",
    "#     plt.legend(loc='best')\n",
    "#     plt.show()\n",
    "\n",
    "\n"
   ]
  },
  {
   "cell_type": "code",
   "execution_count": 76,
   "metadata": {
    "id": "mFboyoe4sfmx"
   },
   "outputs": [],
   "source": [
    "#nn_weight_algos = ['gradient_descent','random_hill_climb', 'simulated_annealing','genetic_alg']\n",
    "models = {}\n",
    "for k, algo in nn_algo_name_object_map.items():\n",
    "    models[algo] = nn_builder(algo_name = algo, activation_type = 'relu', hidden_nodes_n = 200, learning_rate_n = 0.0001,  restarts_n = 10, pop_size_n = 400, schedule_n =  mlrose.ArithDecay())"
   ]
  },
  {
   "cell_type": "code",
   "execution_count": 77,
   "metadata": {},
   "outputs": [
    {
     "data": {
      "text/plain": [
       "{'gradient_descent': NeuralNetwork(clip_max=5, early_stopping=True, hidden_nodes=[200],\n",
       "               learning_rate=0.0001, max_iters=1000, pop_size=400, restarts=10),\n",
       " 'random_hill_climb': NeuralNetwork(clip_max=5, early_stopping=True, hidden_nodes=[200],\n",
       "               learning_rate=0.0001, max_iters=1000, pop_size=400, restarts=10),\n",
       " 'simulated_annealing': NeuralNetwork(clip_max=5, early_stopping=True, hidden_nodes=[200],\n",
       "               learning_rate=0.0001, max_iters=1000, pop_size=400, restarts=10),\n",
       " 'genetic_alg': NeuralNetwork(clip_max=5, early_stopping=True, hidden_nodes=[200],\n",
       "               learning_rate=0.0001, max_iters=1000, pop_size=400, restarts=10)}"
      ]
     },
     "execution_count": 77,
     "metadata": {},
     "output_type": "execute_result"
    }
   ],
   "source": [
    "models"
   ]
  },
  {
   "cell_type": "code",
   "execution_count": 78,
   "metadata": {
    "colab": {
     "base_uri": "https://localhost:8080/",
     "height": 357
    },
    "id": "SCkLqcdxoEpQ",
    "outputId": "5774d53e-5c0f-41b3-c5ef-e5dd2224177d"
   },
   "outputs": [],
   "source": [
    "sgd_train_sizes, sgd_train_times, sgd_test_times = get_time_curve(models['gradient_descent'], X_train, y_train)\n",
    "rhc_train_sizes, rhc_train_times, rhc_test_times = get_time_curve(models['random_hill_climb'],  X_train, y_train)\n",
    "sa_train_sizes, sa_train_times, sa_test_times = get_time_curve(models['simulated_annealing'],  X_train, y_train)\n",
    "ga_train_sizes, ga_train_times, ga_test_times = get_time_curve(models['genetic_alg'],  X_train, y_train)\n",
    "\n",
    "algo_train_times = {'gradient_descent': (sgd_train_sizes, sgd_train_times), 'random_hill_climb': (rhc_train_sizes, rhc_train_times), \n",
    "                    'simulated_annealing': (sa_train_sizes, sa_train_times), 'genetic_alg': (ga_train_sizes, ga_train_times)}\n",
    "algo_test_times = {'gradient_descent': (sgd_train_sizes, sgd_test_times), 'random_hill_climb': (rhc_train_sizes, rhc_test_times), \n",
    "                   'simulated_annealing': (sa_train_sizes, sa_test_times), 'genetic_alg': (ga_train_sizes, ga_test_times)}"
   ]
  },
  {
   "cell_type": "code",
   "execution_count": 79,
   "metadata": {
    "id": "KSo2Vh1_oIRl"
   },
   "outputs": [
    {
     "data": {
      "image/png": "[encoded data removed]",
      "text/plain": [
       "<Figure size 1000x500 with 2 Axes>"
      ]
     },
     "metadata": {},
     "output_type": "display_data"
    }
   ],
   "source": [
    "plot_time_curves(algo_train_times, algo_test_times)"
   ]
  },
  {
   "cell_type": "code",
   "execution_count": 80,
   "metadata": {
    "id": "lSoEo4dIl9yS"
   },
   "outputs": [
    {
     "data": {
      "image/png": "[encoded data removed]",
      "text/plain": [
       "<Figure size 1400x1000 with 4 Axes>"
      ]
     },
     "metadata": {},
     "output_type": "display_data"
    }
   ],
   "source": [
    "plot_learning_curve(models, X_train, y_train)"
   ]
  },
  {
   "cell_type": "code",
   "execution_count": 81,
   "metadata": {},
   "outputs": [
    {
     "data": {
      "image/png": "[encoded data removed]",
      "text/plain": [
       "<Figure size 800x600 with 1 Axes>"
      ]
     },
     "metadata": {},
     "output_type": "display_data"
    }
   ],
   "source": [
    "plot_generalization_performance(models,X_train, y_train, X_test, y_test)"
   ]
  },
  {
   "cell_type": "code",
   "execution_count": 7,
   "metadata": {},
   "outputs": [
    {
     "name": "stdout",
     "output_type": "stream",
     "text": [
      "Requirement already satisfied: mlrose_hiive in /Users/LouisReinaldo/opt/anaconda3/lib/python3.9/site-packages (2.2.4)\n",
      "Requirement already satisfied: networkx in /Users/LouisReinaldo/opt/anaconda3/lib/python3.9/site-packages (from mlrose_hiive) (2.8.4)\n",
      "Requirement already satisfied: scipy in /Users/LouisReinaldo/opt/anaconda3/lib/python3.9/site-packages (from mlrose_hiive) (1.9.1)\n",
      "Requirement already satisfied: scikit-learn in /Users/LouisReinaldo/opt/anaconda3/lib/python3.9/site-packages (from mlrose_hiive) (1.0.2)\n",
      "Requirement already satisfied: joblib in /Users/LouisReinaldo/opt/anaconda3/lib/python3.9/site-packages (from mlrose_hiive) (1.1.0)\n",
      "Requirement already satisfied: numpy in /Users/LouisReinaldo/opt/anaconda3/lib/python3.9/site-packages (from mlrose_hiive) (1.21.5)\n",
      "Requirement already satisfied: pandas in /Users/LouisReinaldo/opt/anaconda3/lib/python3.9/site-packages (from mlrose_hiive) (1.4.4)\n",
      "Requirement already satisfied: python-dateutil>=2.8.1 in /Users/LouisReinaldo/opt/anaconda3/lib/python3.9/site-packages (from pandas->mlrose_hiive) (2.8.2)\n",
      "Requirement already satisfied: pytz>=2020.1 in /Users/LouisReinaldo/opt/anaconda3/lib/python3.9/site-packages (from pandas->mlrose_hiive) (2022.1)\n",
      "Requirement already satisfied: threadpoolctl>=2.0.0 in /Users/LouisReinaldo/opt/anaconda3/lib/python3.9/site-packages (from scikit-learn->mlrose_hiive) (2.2.0)\n",
      "Requirement already satisfied: six>=1.5 in /Users/LouisReinaldo/opt/anaconda3/lib/python3.9/site-packages (from python-dateutil>=2.8.1->pandas->mlrose_hiive) (1.16.0)\n"
     ]
    }
   ],
   "source": [
    "!pip install mlrose_hiive\n",
    "from mlrose_hiive import RHCRunner, SARunner, GARunner, MIMICRunner, NNGSRunner, NeuralNetwork"
   ]
  },
  {
   "cell_type": "code",
   "execution_count": 20,
   "metadata": {
    "id": "eWe2AGD1m4KX"
   },
   "outputs": [],
   "source": [
    "nn_model_rhc = NeuralNetwork(hidden_nodes=[30], activation='identity',\n",
    "                                    algorithm='random_hill_climb', max_iters=1000,\n",
    "                                    bias=True, is_classifier=True, learning_rate=0.0001,\n",
    "                                    early_stopping=True, clip_max=5, max_attempts=100,\n",
    "                                    random_state=123)\n",
    "nn_model_sa = NeuralNetwork(hidden_nodes=[30], activation='identity',\n",
    "                                   algorithm='simulated_annealing', max_iters=1000,\n",
    "                                   bias=True, is_classifier=True, learning_rate=0.0001,\n",
    "                                   early_stopping=True, clip_max=5, max_attempts=100,\n",
    "                                   random_state=123)\n",
    "nn_model_ga = NeuralNetwork(hidden_nodes=[30], activation='identity',\n",
    "                                   algorithm='genetic_alg', max_iters=1000,\n",
    "                                   bias=True, is_classifier=True, learning_rate=0.0001,\n",
    "                                   early_stopping=True, clip_max=5, max_attempts=100,\n",
    "                                   random_state=123)"
   ]
  },
  {
   "cell_type": "code",
   "execution_count": 21,
   "metadata": {
    "id": "di7OHPqu1480"
   },
   "outputs": [],
   "source": [
    "def find_best_curve_run(run_curves):\n",
    "    \n",
    "    # find out which input state achieved the best fitness in the fewest fitness evaluations.\n",
    "    best_fitness = run_curves['Fitness'].min()\n",
    "    best_runs = run_curves[run_curves['Fitness'] == best_fitness]\n",
    "    minimum_evaluations = best_runs['FEvals'].min()\n",
    "    best_curve_run = best_runs[best_runs['FEvals'] == minimum_evaluations]\n",
    "    \n",
    "    return best_curve_run"
   ]
  },
  {
   "cell_type": "code",
   "execution_count": 22,
   "metadata": {
    "id": "5igHF0vj14vt"
   },
   "outputs": [
    {
     "name": "stdout",
     "output_type": "stream",
     "text": [
      "Fitting 5 folds for each of 2 candidates, totalling 10 fits\n"
     ]
    }
   ],
   "source": [
    "grid_search_parameters = {\n",
    "    'max_iters': [1000],                          # nn params\n",
    "    'learning_rate': [1e-1, 1e-2],                       # nn params\n",
    "    'activation': [mlrose_hiive.identity],            # nn params\n",
    "    'restarts': [10],                             # rhc params\n",
    "}\n",
    "\n",
    "nnr = NNGSRunner(\n",
    "    x_train=X_train,\n",
    "    y_train=y_train,\n",
    "    x_test=X_test,\n",
    "    y_test=y_test,\n",
    "    experiment_name='nn_exp_sgd',\n",
    "    algorithm=mlrose_hiive.algorithms.gradient_descent,\n",
    "    grid_search_parameters=grid_search_parameters,\n",
    "    iteration_list=[1, 10, 50, 100, 500, 1000],\n",
    "    hidden_layer_sizes=[[2]],\n",
    "    bias=True,\n",
    "    early_stopping=True,\n",
    "    clip_max=5,\n",
    "    max_attempts=500,\n",
    "    n_jobs=5,\n",
    "    seed=13,\n",
    "    output_directory=None\n",
    ")\n",
    "\n",
    "\n",
    "gd_run_stats_df, gd_curves_df, gd_cv_results_df, gd_grid_search_cv = nnr.run()"
   ]
  },
  {
   "cell_type": "code",
   "execution_count": 23,
   "metadata": {
    "id": "YvdwgvWt14tG"
   },
   "outputs": [
    {
     "name": "stdout",
     "output_type": "stream",
     "text": [
      "Fitting 5 folds for each of 2 candidates, totalling 10 fits\n"
     ]
    }
   ],
   "source": [
    "grid_search_parameters = {\n",
    "    'max_iters': [1000],                          # nn params\n",
    "    'learning_rate': [1e-1, 1e-2],                       # nn params\n",
    "    'activation': [mlrose_hiive.identity],            # nn params\n",
    "    'restarts': [10],                             # rhc params\n",
    "}\n",
    "\n",
    "nnr = NNGSRunner(\n",
    "    x_train=X_train,\n",
    "    y_train=y_train,\n",
    "    x_test=X_test,\n",
    "    y_test=y_test,\n",
    "    experiment_name='nn_exp_rhc',\n",
    "    algorithm=mlrose_hiive.algorithms.rhc.random_hill_climb,\n",
    "    grid_search_parameters=grid_search_parameters,\n",
    "    iteration_list=[1, 10, 50, 100, 500, 1000],\n",
    "    hidden_layer_sizes=[[2]],\n",
    "    bias=True,\n",
    "    early_stopping=True,\n",
    "    clip_max=5,\n",
    "    max_attempts=500,\n",
    "    n_jobs=5,\n",
    "    seed=13,\n",
    "    output_directory=None\n",
    ")\n",
    "\n",
    "\n",
    "rhc_run_stats_df, rhc_curves_df, rhc_cv_results_df, rhc_grid_search_cv = nnr.run()"
   ]
  },
  {
   "cell_type": "code",
   "execution_count": 24,
   "metadata": {
    "id": "AEzGQgw-14qP"
   },
   "outputs": [
    {
     "name": "stdout",
     "output_type": "stream",
     "text": [
      "Fitting 5 folds for each of 2 candidates, totalling 10 fits\n"
     ]
    }
   ],
   "source": [
    "grid_search_parameters = {\n",
    "    'max_iters': [1000],                          # nn params\n",
    "    'learning_rate': [1e-1, 1e-2],                       # nn params\n",
    "    'activation': [mlrose_hiive.identity],            # nn params\n",
    "    'restarts': [10],                             # rhc params\n",
    "}\n",
    "\n",
    "nnr = NNGSRunner(\n",
    "    x_train=X_train,\n",
    "    y_train=y_train,\n",
    "    x_test=X_test,\n",
    "    y_test=y_test,\n",
    "    experiment_name='nn_exp_sa',\n",
    "    algorithm=mlrose_hiive.algorithms.simulated_annealing,\n",
    "    grid_search_parameters=grid_search_parameters,\n",
    "    iteration_list=[1, 10, 50, 100, 500, 1000],\n",
    "    hidden_layer_sizes=[[2]],\n",
    "    bias=True,\n",
    "    early_stopping=True,\n",
    "    clip_max=5,\n",
    "    max_attempts=500,\n",
    "    n_jobs=5,\n",
    "    seed=13,\n",
    "    output_directory=None\n",
    ")\n",
    "\n",
    "\n",
    "sa_run_stats_df, sa_curves_df, sa_cv_results_df, sa_grid_search_cv = nnr.run()"
   ]
  },
  {
   "cell_type": "code",
   "execution_count": 25,
   "metadata": {
    "id": "5vf7fxXh14nq"
   },
   "outputs": [
    {
     "name": "stdout",
     "output_type": "stream",
     "text": [
      "Fitting 5 folds for each of 2 candidates, totalling 10 fits\n"
     ]
    }
   ],
   "source": [
    "grid_search_parameters = {\n",
    "    'max_iters': [1000],                          # nn params\n",
    "    'learning_rate': [1e-1, 1e-2],                       # nn params\n",
    "    'activation': [mlrose_hiive.identity],            # nn params\n",
    "    'restarts': [10],                             # rhc params\n",
    "}\n",
    "\n",
    "nnr = NNGSRunner(\n",
    "    x_train=X_train,\n",
    "    y_train=y_train,\n",
    "    x_test=X_test,\n",
    "    y_test=y_test,\n",
    "    experiment_name='nn_exp_ga',\n",
    "    algorithm=mlrose_hiive.algorithms.genetic_alg,\n",
    "    grid_search_parameters=grid_search_parameters,\n",
    "    iteration_list=[1, 10, 50, 100, 500, 1000],\n",
    "    hidden_layer_sizes=[[2]],\n",
    "    bias=True,\n",
    "    early_stopping=True,\n",
    "    clip_max=5,\n",
    "    max_attempts=500,\n",
    "    n_jobs=5,\n",
    "    seed=13,\n",
    "    output_directory=None\n",
    ")\n",
    "\n",
    "\n",
    "ga_run_stats_df, ga_curves_df, ga_cv_results_df, ga_grid_search_cv = nnr.run()"
   ]
  },
  {
   "cell_type": "code",
   "execution_count": 26,
   "metadata": {
    "id": "cY4iau_b14kP"
   },
   "outputs": [],
   "source": [
    "best_rhc_run_curves = find_best_curve_run(rhc_curves_df)\n",
    "best_restart = best_rhc_run_curves['current_restart'].iloc()[0]\n",
    "best_rhc_run_stats = rhc_run_stats_df[(rhc_run_stats_df['current_restart'] == best_restart)]"
   ]
  },
  {
   "cell_type": "code",
   "execution_count": 27,
   "metadata": {
    "id": "-jSPQZ8N14hg"
   },
   "outputs": [],
   "source": [
    "sa_run_stats_df['Algorithm'] = 'SA'\n",
    "ga_run_stats_df['Algorithm'] = 'GA'\n",
    "best_rhc_run_stats['Algorithm'] = 'RHC'"
   ]
  },
  {
   "cell_type": "code",
   "execution_count": 28,
   "metadata": {
    "id": "VhXobplNm4Ho"
   },
   "outputs": [],
   "source": [
    "result = pd.concat([sa_run_stats_df, ga_run_stats_df, best_rhc_run_stats], ignore_index=True)"
   ]
  },
  {
   "cell_type": "code",
   "execution_count": 29,
   "metadata": {},
   "outputs": [
    {
     "name": "stdout",
     "output_type": "stream",
     "text": [
      "Requirement already satisfied: plotly in /Users/LouisReinaldo/opt/anaconda3/lib/python3.9/site-packages (5.9.0)\r\n",
      "Requirement already satisfied: tenacity>=6.2.0 in /Users/LouisReinaldo/opt/anaconda3/lib/python3.9/site-packages (from plotly) (8.0.1)\r\n"
     ]
    }
   ],
   "source": [
    "! pip install plotly\n",
    "import plotly.express as px"
   ]
  },
  {
   "cell_type": "code",
   "execution_count": 32,
   "metadata": {},
   "outputs": [
    {
     "data": {
      "application/vnd.plotly.v1+json": {
       "config": {
        "plotlyServerURL": "https://plot.ly"
       },
       "data": [
        {
         "hovertemplate": "Algorithm=SA<br>Iteration=%{x}<br>Fitness=%{y}<extra></extra>",
         "legendgroup": "SA",
         "line": {
          "color": "#636efa",
          "dash": "solid"
         },
         "marker": {
          "symbol": "circle"
         },
         "mode": "lines",
         "name": "SA",
         "orientation": "v",
         "showlegend": true,
         "type": "scatter",
         "x": [
          0,
          1,
          10,
          50,
          100,
          500,
          1000
         ],
         "xaxis": "x",
         "y": [
          0.7132394738680342,
          0.715866164115589,
          0.7348116057252041,
          0.7634839317207943,
          0.7356979752807343,
          0.688085872425656,
          0.588287657526652
         ],
         "yaxis": "y"
        },
        {
         "hovertemplate": "Algorithm=GA<br>Iteration=%{x}<br>Fitness=%{y}<extra></extra>",
         "legendgroup": "GA",
         "line": {
          "color": "#EF553B",
          "dash": "solid"
         },
         "marker": {
          "symbol": "circle"
         },
         "mode": "lines",
         "name": "GA",
         "orientation": "v",
         "showlegend": true,
         "type": "scatter",
         "x": [
          0,
          1,
          10,
          50,
          100,
          500,
          1000
         ],
         "xaxis": "x",
         "y": [
          2.9795465928232145,
          0.6268412761606333,
          0.6178137757001597,
          0.5146545882620195,
          0.5020838679064651,
          0.4839882531920059,
          0.4832235985152956
         ],
         "yaxis": "y"
        },
        {
         "hovertemplate": "Algorithm=RHC<br>Iteration=%{x}<br>Fitness=%{y}<extra></extra>",
         "legendgroup": "RHC",
         "line": {
          "color": "#00cc96",
          "dash": "solid"
         },
         "marker": {
          "symbol": "circle"
         },
         "mode": "lines",
         "name": "RHC",
         "orientation": "v",
         "showlegend": true,
         "type": "scatter",
         "x": [
          0,
          1,
          10,
          50,
          100,
          500,
          1000
         ],
         "xaxis": "x",
         "y": [
          0.7132394738680342,
          0.7132394738680342,
          0.6960657806602244,
          0.6801126686507493,
          0.6591788099413568,
          0.540875334775615,
          0.4859961103388676
         ],
         "yaxis": "y"
        }
       ],
       "layout": {
        "legend": {
         "title": {
          "text": "Algorithm"
         },
         "tracegroupgap": 0
        },
        "template": {
         "data": {
          "bar": [
           {
            "error_x": {
             "color": "#2a3f5f"
            },
            "error_y": {
             "color": "#2a3f5f"
            },
            "marker": {
             "line": {
              "color": "#E5ECF6",
              "width": 0.5
             },
             "pattern": {
              "fillmode": "overlay",
              "size": 10,
              "solidity": 0.2
             }
            },
            "type": "bar"
           }
          ],
          "barpolar": [
           {
            "marker": {
             "line": {
              "color": "#E5ECF6",
              "width": 0.5
             },
             "pattern": {
              "fillmode": "overlay",
              "size": 10,
              "solidity": 0.2
             }
            },
            "type": "barpolar"
           }
          ],
          "carpet": [
           {
            "aaxis": {
             "endlinecolor": "#2a3f5f",
             "gridcolor": "white",
             "linecolor": "white",
             "minorgridcolor": "white",
             "startlinecolor": "#2a3f5f"
            },
            "baxis": {
             "endlinecolor": "#2a3f5f",
             "gridcolor": "white",
             "linecolor": "white",
             "minorgridcolor": "white",
             "startlinecolor": "#2a3f5f"
            },
            "type": "carpet"
           }
          ],
          "choropleth": [
           {
            "colorbar": {
             "outlinewidth": 0,
             "ticks": ""
            },
            "type": "choropleth"
           }
          ],
          "contour": [
           {
            "colorbar": {
             "outlinewidth": 0,
             "ticks": ""
            },
            "colorscale": [
             [
              0,
              "#0d0887"
             ],
             [
              0.1111111111111111,
              "#46039f"
             ],
             [
              0.2222222222222222,
              "#7201a8"
             ],
             [
              0.3333333333333333,
              "#9c179e"
             ],
             [
              0.4444444444444444,
              "#bd3786"
             ],
             [
              0.5555555555555556,
              "#d8576b"
             ],
             [
              0.6666666666666666,
              "#ed7953"
             ],
             [
              0.7777777777777778,
              "#fb9f3a"
             ],
             [
              0.8888888888888888,
              "#fdca26"
             ],
             [
              1,
              "#f0f921"
             ]
            ],
            "type": "contour"
           }
          ],
          "contourcarpet": [
           {
            "colorbar": {
             "outlinewidth": 0,
             "ticks": ""
            },
            "type": "contourcarpet"
           }
          ],
          "heatmap": [
           {
            "colorbar": {
             "outlinewidth": 0,
             "ticks": ""
            },
            "colorscale": [
             [
              0,
              "#0d0887"
             ],
             [
              0.1111111111111111,
              "#46039f"
             ],
             [
              0.2222222222222222,
              "#7201a8"
             ],
             [
              0.3333333333333333,
              "#9c179e"
             ],
             [
              0.4444444444444444,
              "#bd3786"
             ],
             [
              0.5555555555555556,
              "#d8576b"
             ],
             [
              0.6666666666666666,
              "#ed7953"
             ],
             [
              0.7777777777777778,
              "#fb9f3a"
             ],
             [
              0.8888888888888888,
              "#fdca26"
             ],
             [
              1,
              "#f0f921"
             ]
            ],
            "type": "heatmap"
           }
          ],
          "heatmapgl": [
           {
            "colorbar": {
             "outlinewidth": 0,
             "ticks": ""
            },
            "colorscale": [
             [
              0,
              "#0d0887"
             ],
             [
              0.1111111111111111,
              "#46039f"
             ],
             [
              0.2222222222222222,
              "#7201a8"
             ],
             [
              0.3333333333333333,
              "#9c179e"
             ],
             [
              0.4444444444444444,
              "#bd3786"
             ],
             [
              0.5555555555555556,
              "#d8576b"
             ],
             [
              0.6666666666666666,
              "#ed7953"
             ],
             [
              0.7777777777777778,
              "#fb9f3a"
             ],
             [
              0.8888888888888888,
              "#fdca26"
             ],
             [
              1,
              "#f0f921"
             ]
            ],
            "type": "heatmapgl"
           }
          ],
          "histogram": [
           {
            "marker": {
             "pattern": {
              "fillmode": "overlay",
              "size": 10,
              "solidity": 0.2
             }
            },
            "type": "histogram"
           }
          ],
          "histogram2d": [
           {
            "colorbar": {
             "outlinewidth": 0,
             "ticks": ""
            },
            "colorscale": [
             [
              0,
              "#0d0887"
             ],
             [
              0.1111111111111111,
              "#46039f"
             ],
             [
              0.2222222222222222,
              "#7201a8"
             ],
             [
              0.3333333333333333,
              "#9c179e"
             ],
             [
              0.4444444444444444,
              "#bd3786"
             ],
             [
              0.5555555555555556,
              "#d8576b"
             ],
             [
              0.6666666666666666,
              "#ed7953"
             ],
             [
              0.7777777777777778,
              "#fb9f3a"
             ],
             [
              0.8888888888888888,
              "#fdca26"
             ],
             [
              1,
              "#f0f921"
             ]
            ],
            "type": "histogram2d"
           }
          ],
          "histogram2dcontour": [
           {
            "colorbar": {
             "outlinewidth": 0,
             "ticks": ""
            },
            "colorscale": [
             [
              0,
              "#0d0887"
             ],
             [
              0.1111111111111111,
              "#46039f"
             ],
             [
              0.2222222222222222,
              "#7201a8"
             ],
             [
              0.3333333333333333,
              "#9c179e"
             ],
             [
              0.4444444444444444,
              "#bd3786"
             ],
             [
              0.5555555555555556,
              "#d8576b"
             ],
             [
              0.6666666666666666,
              "#ed7953"
             ],
             [
              0.7777777777777778,
              "#fb9f3a"
             ],
             [
              0.8888888888888888,
              "#fdca26"
             ],
             [
              1,
              "#f0f921"
             ]
            ],
            "type": "histogram2dcontour"
           }
          ],
          "mesh3d": [
           {
            "colorbar": {
             "outlinewidth": 0,
             "ticks": ""
            },
            "type": "mesh3d"
           }
          ],
          "parcoords": [
           {
            "line": {
             "colorbar": {
              "outlinewidth": 0,
              "ticks": ""
             }
            },
            "type": "parcoords"
           }
          ],
          "pie": [
           {
            "automargin": true,
            "type": "pie"
           }
          ],
          "scatter": [
           {
            "fillpattern": {
             "fillmode": "overlay",
             "size": 10,
             "solidity": 0.2
            },
            "type": "scatter"
           }
          ],
          "scatter3d": [
           {
            "line": {
             "colorbar": {
              "outlinewidth": 0,
              "ticks": ""
             }
            },
            "marker": {
             "colorbar": {
              "outlinewidth": 0,
              "ticks": ""
             }
            },
            "type": "scatter3d"
           }
          ],
          "scattercarpet": [
           {
            "marker": {
             "colorbar": {
              "outlinewidth": 0,
              "ticks": ""
             }
            },
            "type": "scattercarpet"
           }
          ],
          "scattergeo": [
           {
            "marker": {
             "colorbar": {
              "outlinewidth": 0,
              "ticks": ""
             }
            },
            "type": "scattergeo"
           }
          ],
          "scattergl": [
           {
            "marker": {
             "colorbar": {
              "outlinewidth": 0,
              "ticks": ""
             }
            },
            "type": "scattergl"
           }
          ],
          "scattermapbox": [
           {
            "marker": {
             "colorbar": {
              "outlinewidth": 0,
              "ticks": ""
             }
            },
            "type": "scattermapbox"
           }
          ],
          "scatterpolar": [
           {
            "marker": {
             "colorbar": {
              "outlinewidth": 0,
              "ticks": ""
             }
            },
            "type": "scatterpolar"
           }
          ],
          "scatterpolargl": [
           {
            "marker": {
             "colorbar": {
              "outlinewidth": 0,
              "ticks": ""
             }
            },
            "type": "scatterpolargl"
           }
          ],
          "scatterternary": [
           {
            "marker": {
             "colorbar": {
              "outlinewidth": 0,
              "ticks": ""
             }
            },
            "type": "scatterternary"
           }
          ],
          "surface": [
           {
            "colorbar": {
             "outlinewidth": 0,
             "ticks": ""
            },
            "colorscale": [
             [
              0,
              "#0d0887"
             ],
             [
              0.1111111111111111,
              "#46039f"
             ],
             [
              0.2222222222222222,
              "#7201a8"
             ],
             [
              0.3333333333333333,
              "#9c179e"
             ],
             [
              0.4444444444444444,
              "#bd3786"
             ],
             [
              0.5555555555555556,
              "#d8576b"
             ],
             [
              0.6666666666666666,
              "#ed7953"
             ],
             [
              0.7777777777777778,
              "#fb9f3a"
             ],
             [
              0.8888888888888888,
              "#fdca26"
             ],
             [
              1,
              "#f0f921"
             ]
            ],
            "type": "surface"
           }
          ],
          "table": [
           {
            "cells": {
             "fill": {
              "color": "#EBF0F8"
             },
             "line": {
              "color": "white"
             }
            },
            "header": {
             "fill": {
              "color": "#C8D4E3"
             },
             "line": {
              "color": "white"
             }
            },
            "type": "table"
           }
          ]
         },
         "layout": {
          "annotationdefaults": {
           "arrowcolor": "#2a3f5f",
           "arrowhead": 0,
           "arrowwidth": 1
          },
          "autotypenumbers": "strict",
          "coloraxis": {
           "colorbar": {
            "outlinewidth": 0,
            "ticks": ""
           }
          },
          "colorscale": {
           "diverging": [
            [
             0,
             "#8e0152"
            ],
            [
             0.1,
             "#c51b7d"
            ],
            [
             0.2,
             "#de77ae"
            ],
            [
             0.3,
             "#f1b6da"
            ],
            [
             0.4,
             "#fde0ef"
            ],
            [
             0.5,
             "#f7f7f7"
            ],
            [
             0.6,
             "#e6f5d0"
            ],
            [
             0.7,
             "#b8e186"
            ],
            [
             0.8,
             "#7fbc41"
            ],
            [
             0.9,
             "#4d9221"
            ],
            [
             1,
             "#276419"
            ]
           ],
           "sequential": [
            [
             0,
             "#0d0887"
            ],
            [
             0.1111111111111111,
             "#46039f"
            ],
            [
             0.2222222222222222,
             "#7201a8"
            ],
            [
             0.3333333333333333,
             "#9c179e"
            ],
            [
             0.4444444444444444,
             "#bd3786"
            ],
            [
             0.5555555555555556,
             "#d8576b"
            ],
            [
             0.6666666666666666,
             "#ed7953"
            ],
            [
             0.7777777777777778,
             "#fb9f3a"
            ],
            [
             0.8888888888888888,
             "#fdca26"
            ],
            [
             1,
             "#f0f921"
            ]
           ],
           "sequentialminus": [
            [
             0,
             "#0d0887"
            ],
            [
             0.1111111111111111,
             "#46039f"
            ],
            [
             0.2222222222222222,
             "#7201a8"
            ],
            [
             0.3333333333333333,
             "#9c179e"
            ],
            [
             0.4444444444444444,
             "#bd3786"
            ],
            [
             0.5555555555555556,
             "#d8576b"
            ],
            [
             0.6666666666666666,
             "#ed7953"
            ],
            [
             0.7777777777777778,
             "#fb9f3a"
            ],
            [
             0.8888888888888888,
             "#fdca26"
            ],
            [
             1,
             "#f0f921"
            ]
           ]
          },
          "colorway": [
           "#636efa",
           "#EF553B",
           "#00cc96",
           "#ab63fa",
           "#FFA15A",
           "#19d3f3",
           "#FF6692",
           "#B6E880",
           "#FF97FF",
           "#FECB52"
          ],
          "font": {
           "color": "#2a3f5f"
          },
          "geo": {
           "bgcolor": "white",
           "lakecolor": "white",
           "landcolor": "#E5ECF6",
           "showlakes": true,
           "showland": true,
           "subunitcolor": "white"
          },
          "hoverlabel": {
           "align": "left"
          },
          "hovermode": "closest",
          "mapbox": {
           "style": "light"
          },
          "paper_bgcolor": "white",
          "plot_bgcolor": "#E5ECF6",
          "polar": {
           "angularaxis": {
            "gridcolor": "white",
            "linecolor": "white",
            "ticks": ""
           },
           "bgcolor": "#E5ECF6",
           "radialaxis": {
            "gridcolor": "white",
            "linecolor": "white",
            "ticks": ""
           }
          },
          "scene": {
           "xaxis": {
            "backgroundcolor": "#E5ECF6",
            "gridcolor": "white",
            "gridwidth": 2,
            "linecolor": "white",
            "showbackground": true,
            "ticks": "",
            "zerolinecolor": "white"
           },
           "yaxis": {
            "backgroundcolor": "#E5ECF6",
            "gridcolor": "white",
            "gridwidth": 2,
            "linecolor": "white",
            "showbackground": true,
            "ticks": "",
            "zerolinecolor": "white"
           },
           "zaxis": {
            "backgroundcolor": "#E5ECF6",
            "gridcolor": "white",
            "gridwidth": 2,
            "linecolor": "white",
            "showbackground": true,
            "ticks": "",
            "zerolinecolor": "white"
           }
          },
          "shapedefaults": {
           "line": {
            "color": "#2a3f5f"
           }
          },
          "ternary": {
           "aaxis": {
            "gridcolor": "white",
            "linecolor": "white",
            "ticks": ""
           },
           "baxis": {
            "gridcolor": "white",
            "linecolor": "white",
            "ticks": ""
           },
           "bgcolor": "#E5ECF6",
           "caxis": {
            "gridcolor": "white",
            "linecolor": "white",
            "ticks": ""
           }
          },
          "title": {
           "x": 0.05
          },
          "xaxis": {
           "automargin": true,
           "gridcolor": "white",
           "linecolor": "white",
           "ticks": "",
           "title": {
            "standoff": 15
           },
           "zerolinecolor": "white",
           "zerolinewidth": 2
          },
          "yaxis": {
           "automargin": true,
           "gridcolor": "white",
           "linecolor": "white",
           "ticks": "",
           "title": {
            "standoff": 15
           },
           "zerolinecolor": "white",
           "zerolinewidth": 2
          }
         }
        },
        "title": {
         "text": "NN Fitness Score"
        },
        "xaxis": {
         "anchor": "y",
         "domain": [
          0,
          1
         ],
         "title": {
          "text": "Iteration"
         }
        },
        "yaxis": {
         "anchor": "x",
         "domain": [
          0,
          1
         ],
         "title": {
          "text": "Fitness"
         }
        }
       }
      },
      "text/html": [
       "<div>                            <div id=\"cb707dd7-ab6a-4506-ba56-f946a3fa57f8\" class=\"plotly-graph-div\" style=\"height:525px; width:100%;\"></div>            <script type=\"text/javascript\">                require([\"plotly\"], function(Plotly) {                    window.PLOTLYENV=window.PLOTLYENV || {};                                    if (document.getElementById(\"cb707dd7-ab6a-4506-ba56-f946a3fa57f8\")) {                    Plotly.newPlot(                        \"cb707dd7-ab6a-4506-ba56-f946a3fa57f8\",                        [{\"hovertemplate\":\"Algorithm=SA<br>Iteration=%{x}<br>Fitness=%{y}<extra></extra>\",\"legendgroup\":\"SA\",\"line\":{\"color\":\"#636efa\",\"dash\":\"solid\"},\"marker\":{\"symbol\":\"circle\"},\"mode\":\"lines\",\"name\":\"SA\",\"orientation\":\"v\",\"showlegend\":true,\"x\":[0,1,10,50,100,500,1000],\"xaxis\":\"x\",\"y\":[0.7132394738680342,0.715866164115589,0.7348116057252041,0.7634839317207943,0.7356979752807343,0.688085872425656,0.588287657526652],\"yaxis\":\"y\",\"type\":\"scatter\"},{\"hovertemplate\":\"Algorithm=GA<br>Iteration=%{x}<br>Fitness=%{y}<extra></extra>\",\"legendgroup\":\"GA\",\"line\":{\"color\":\"#EF553B\",\"dash\":\"solid\"},\"marker\":{\"symbol\":\"circle\"},\"mode\":\"lines\",\"name\":\"GA\",\"orientation\":\"v\",\"showlegend\":true,\"x\":[0,1,10,50,100,500,1000],\"xaxis\":\"x\",\"y\":[2.9795465928232145,0.6268412761606333,0.6178137757001597,0.5146545882620195,0.5020838679064651,0.4839882531920059,0.4832235985152956],\"yaxis\":\"y\",\"type\":\"scatter\"},{\"hovertemplate\":\"Algorithm=RHC<br>Iteration=%{x}<br>Fitness=%{y}<extra></extra>\",\"legendgroup\":\"RHC\",\"line\":{\"color\":\"#00cc96\",\"dash\":\"solid\"},\"marker\":{\"symbol\":\"circle\"},\"mode\":\"lines\",\"name\":\"RHC\",\"orientation\":\"v\",\"showlegend\":true,\"x\":[0,1,10,50,100,500,1000],\"xaxis\":\"x\",\"y\":[0.7132394738680342,0.7132394738680342,0.6960657806602244,0.6801126686507493,0.6591788099413568,0.540875334775615,0.4859961103388676],\"yaxis\":\"y\",\"type\":\"scatter\"}],                        {\"template\":{\"data\":{\"histogram2dcontour\":[{\"type\":\"histogram2dcontour\",\"colorbar\":{\"outlinewidth\":0,\"ticks\":\"\"},\"colorscale\":[[0.0,\"#0d0887\"],[0.1111111111111111,\"#46039f\"],[0.2222222222222222,\"#7201a8\"],[0.3333333333333333,\"#9c179e\"],[0.4444444444444444,\"#bd3786\"],[0.5555555555555556,\"#d8576b\"],[0.6666666666666666,\"#ed7953\"],[0.7777777777777778,\"#fb9f3a\"],[0.8888888888888888,\"#fdca26\"],[1.0,\"#f0f921\"]]}],\"choropleth\":[{\"type\":\"choropleth\",\"colorbar\":{\"outlinewidth\":0,\"ticks\":\"\"}}],\"histogram2d\":[{\"type\":\"histogram2d\",\"colorbar\":{\"outlinewidth\":0,\"ticks\":\"\"},\"colorscale\":[[0.0,\"#0d0887\"],[0.1111111111111111,\"#46039f\"],[0.2222222222222222,\"#7201a8\"],[0.3333333333333333,\"#9c179e\"],[0.4444444444444444,\"#bd3786\"],[0.5555555555555556,\"#d8576b\"],[0.6666666666666666,\"#ed7953\"],[0.7777777777777778,\"#fb9f3a\"],[0.8888888888888888,\"#fdca26\"],[1.0,\"#f0f921\"]]}],\"heatmap\":[{\"type\":\"heatmap\",\"colorbar\":{\"outlinewidth\":0,\"ticks\":\"\"},\"colorscale\":[[0.0,\"#0d0887\"],[0.1111111111111111,\"#46039f\"],[0.2222222222222222,\"#7201a8\"],[0.3333333333333333,\"#9c179e\"],[0.4444444444444444,\"#bd3786\"],[0.5555555555555556,\"#d8576b\"],[0.6666666666666666,\"#ed7953\"],[0.7777777777777778,\"#fb9f3a\"],[0.8888888888888888,\"#fdca26\"],[1.0,\"#f0f921\"]]}],\"heatmapgl\":[{\"type\":\"heatmapgl\",\"colorbar\":{\"outlinewidth\":0,\"ticks\":\"\"},\"colorscale\":[[0.0,\"#0d0887\"],[0.1111111111111111,\"#46039f\"],[0.2222222222222222,\"#7201a8\"],[0.3333333333333333,\"#9c179e\"],[0.4444444444444444,\"#bd3786\"],[0.5555555555555556,\"#d8576b\"],[0.6666666666666666,\"#ed7953\"],[0.7777777777777778,\"#fb9f3a\"],[0.8888888888888888,\"#fdca26\"],[1.0,\"#f0f921\"]]}],\"contourcarpet\":[{\"type\":\"contourcarpet\",\"colorbar\":{\"outlinewidth\":0,\"ticks\":\"\"}}],\"contour\":[{\"type\":\"contour\",\"colorbar\":{\"outlinewidth\":0,\"ticks\":\"\"},\"colorscale\":[[0.0,\"#0d0887\"],[0.1111111111111111,\"#46039f\"],[0.2222222222222222,\"#7201a8\"],[0.3333333333333333,\"#9c179e\"],[0.4444444444444444,\"#bd3786\"],[0.5555555555555556,\"#d8576b\"],[0.6666666666666666,\"#ed7953\"],[0.7777777777777778,\"#fb9f3a\"],[0.8888888888888888,\"#fdca26\"],[1.0,\"#f0f921\"]]}],\"surface\":[{\"type\":\"surface\",\"colorbar\":{\"outlinewidth\":0,\"ticks\":\"\"},\"colorscale\":[[0.0,\"#0d0887\"],[0.1111111111111111,\"#46039f\"],[0.2222222222222222,\"#7201a8\"],[0.3333333333333333,\"#9c179e\"],[0.4444444444444444,\"#bd3786\"],[0.5555555555555556,\"#d8576b\"],[0.6666666666666666,\"#ed7953\"],[0.7777777777777778,\"#fb9f3a\"],[0.8888888888888888,\"#fdca26\"],[1.0,\"#f0f921\"]]}],\"mesh3d\":[{\"type\":\"mesh3d\",\"colorbar\":{\"outlinewidth\":0,\"ticks\":\"\"}}],\"scatter\":[{\"fillpattern\":{\"fillmode\":\"overlay\",\"size\":10,\"solidity\":0.2},\"type\":\"scatter\"}],\"parcoords\":[{\"type\":\"parcoords\",\"line\":{\"colorbar\":{\"outlinewidth\":0,\"ticks\":\"\"}}}],\"scatterpolargl\":[{\"type\":\"scatterpolargl\",\"marker\":{\"colorbar\":{\"outlinewidth\":0,\"ticks\":\"\"}}}],\"bar\":[{\"error_x\":{\"color\":\"#2a3f5f\"},\"error_y\":{\"color\":\"#2a3f5f\"},\"marker\":{\"line\":{\"color\":\"#E5ECF6\",\"width\":0.5},\"pattern\":{\"fillmode\":\"overlay\",\"size\":10,\"solidity\":0.2}},\"type\":\"bar\"}],\"scattergeo\":[{\"type\":\"scattergeo\",\"marker\":{\"colorbar\":{\"outlinewidth\":0,\"ticks\":\"\"}}}],\"scatterpolar\":[{\"type\":\"scatterpolar\",\"marker\":{\"colorbar\":{\"outlinewidth\":0,\"ticks\":\"\"}}}],\"histogram\":[{\"marker\":{\"pattern\":{\"fillmode\":\"overlay\",\"size\":10,\"solidity\":0.2}},\"type\":\"histogram\"}],\"scattergl\":[{\"type\":\"scattergl\",\"marker\":{\"colorbar\":{\"outlinewidth\":0,\"ticks\":\"\"}}}],\"scatter3d\":[{\"type\":\"scatter3d\",\"line\":{\"colorbar\":{\"outlinewidth\":0,\"ticks\":\"\"}},\"marker\":{\"colorbar\":{\"outlinewidth\":0,\"ticks\":\"\"}}}],\"scattermapbox\":[{\"type\":\"scattermapbox\",\"marker\":{\"colorbar\":{\"outlinewidth\":0,\"ticks\":\"\"}}}],\"scatterternary\":[{\"type\":\"scatterternary\",\"marker\":{\"colorbar\":{\"outlinewidth\":0,\"ticks\":\"\"}}}],\"scattercarpet\":[{\"type\":\"scattercarpet\",\"marker\":{\"colorbar\":{\"outlinewidth\":0,\"ticks\":\"\"}}}],\"carpet\":[{\"aaxis\":{\"endlinecolor\":\"#2a3f5f\",\"gridcolor\":\"white\",\"linecolor\":\"white\",\"minorgridcolor\":\"white\",\"startlinecolor\":\"#2a3f5f\"},\"baxis\":{\"endlinecolor\":\"#2a3f5f\",\"gridcolor\":\"white\",\"linecolor\":\"white\",\"minorgridcolor\":\"white\",\"startlinecolor\":\"#2a3f5f\"},\"type\":\"carpet\"}],\"table\":[{\"cells\":{\"fill\":{\"color\":\"#EBF0F8\"},\"line\":{\"color\":\"white\"}},\"header\":{\"fill\":{\"color\":\"#C8D4E3\"},\"line\":{\"color\":\"white\"}},\"type\":\"table\"}],\"barpolar\":[{\"marker\":{\"line\":{\"color\":\"#E5ECF6\",\"width\":0.5},\"pattern\":{\"fillmode\":\"overlay\",\"size\":10,\"solidity\":0.2}},\"type\":\"barpolar\"}],\"pie\":[{\"automargin\":true,\"type\":\"pie\"}]},\"layout\":{\"autotypenumbers\":\"strict\",\"colorway\":[\"#636efa\",\"#EF553B\",\"#00cc96\",\"#ab63fa\",\"#FFA15A\",\"#19d3f3\",\"#FF6692\",\"#B6E880\",\"#FF97FF\",\"#FECB52\"],\"font\":{\"color\":\"#2a3f5f\"},\"hovermode\":\"closest\",\"hoverlabel\":{\"align\":\"left\"},\"paper_bgcolor\":\"white\",\"plot_bgcolor\":\"#E5ECF6\",\"polar\":{\"bgcolor\":\"#E5ECF6\",\"angularaxis\":{\"gridcolor\":\"white\",\"linecolor\":\"white\",\"ticks\":\"\"},\"radialaxis\":{\"gridcolor\":\"white\",\"linecolor\":\"white\",\"ticks\":\"\"}},\"ternary\":{\"bgcolor\":\"#E5ECF6\",\"aaxis\":{\"gridcolor\":\"white\",\"linecolor\":\"white\",\"ticks\":\"\"},\"baxis\":{\"gridcolor\":\"white\",\"linecolor\":\"white\",\"ticks\":\"\"},\"caxis\":{\"gridcolor\":\"white\",\"linecolor\":\"white\",\"ticks\":\"\"}},\"coloraxis\":{\"colorbar\":{\"outlinewidth\":0,\"ticks\":\"\"}},\"colorscale\":{\"sequential\":[[0.0,\"#0d0887\"],[0.1111111111111111,\"#46039f\"],[0.2222222222222222,\"#7201a8\"],[0.3333333333333333,\"#9c179e\"],[0.4444444444444444,\"#bd3786\"],[0.5555555555555556,\"#d8576b\"],[0.6666666666666666,\"#ed7953\"],[0.7777777777777778,\"#fb9f3a\"],[0.8888888888888888,\"#fdca26\"],[1.0,\"#f0f921\"]],\"sequentialminus\":[[0.0,\"#0d0887\"],[0.1111111111111111,\"#46039f\"],[0.2222222222222222,\"#7201a8\"],[0.3333333333333333,\"#9c179e\"],[0.4444444444444444,\"#bd3786\"],[0.5555555555555556,\"#d8576b\"],[0.6666666666666666,\"#ed7953\"],[0.7777777777777778,\"#fb9f3a\"],[0.8888888888888888,\"#fdca26\"],[1.0,\"#f0f921\"]],\"diverging\":[[0,\"#8e0152\"],[0.1,\"#c51b7d\"],[0.2,\"#de77ae\"],[0.3,\"#f1b6da\"],[0.4,\"#fde0ef\"],[0.5,\"#f7f7f7\"],[0.6,\"#e6f5d0\"],[0.7,\"#b8e186\"],[0.8,\"#7fbc41\"],[0.9,\"#4d9221\"],[1,\"#276419\"]]},\"xaxis\":{\"gridcolor\":\"white\",\"linecolor\":\"white\",\"ticks\":\"\",\"title\":{\"standoff\":15},\"zerolinecolor\":\"white\",\"automargin\":true,\"zerolinewidth\":2},\"yaxis\":{\"gridcolor\":\"white\",\"linecolor\":\"white\",\"ticks\":\"\",\"title\":{\"standoff\":15},\"zerolinecolor\":\"white\",\"automargin\":true,\"zerolinewidth\":2},\"scene\":{\"xaxis\":{\"backgroundcolor\":\"#E5ECF6\",\"gridcolor\":\"white\",\"linecolor\":\"white\",\"showbackground\":true,\"ticks\":\"\",\"zerolinecolor\":\"white\",\"gridwidth\":2},\"yaxis\":{\"backgroundcolor\":\"#E5ECF6\",\"gridcolor\":\"white\",\"linecolor\":\"white\",\"showbackground\":true,\"ticks\":\"\",\"zerolinecolor\":\"white\",\"gridwidth\":2},\"zaxis\":{\"backgroundcolor\":\"#E5ECF6\",\"gridcolor\":\"white\",\"linecolor\":\"white\",\"showbackground\":true,\"ticks\":\"\",\"zerolinecolor\":\"white\",\"gridwidth\":2}},\"shapedefaults\":{\"line\":{\"color\":\"#2a3f5f\"}},\"annotationdefaults\":{\"arrowcolor\":\"#2a3f5f\",\"arrowhead\":0,\"arrowwidth\":1},\"geo\":{\"bgcolor\":\"white\",\"landcolor\":\"#E5ECF6\",\"subunitcolor\":\"white\",\"showland\":true,\"showlakes\":true,\"lakecolor\":\"white\"},\"title\":{\"x\":0.05},\"mapbox\":{\"style\":\"light\"}}},\"xaxis\":{\"anchor\":\"y\",\"domain\":[0.0,1.0],\"title\":{\"text\":\"Iteration\"}},\"yaxis\":{\"anchor\":\"x\",\"domain\":[0.0,1.0],\"title\":{\"text\":\"Fitness\"}},\"legend\":{\"title\":{\"text\":\"Algorithm\"},\"tracegroupgap\":0},\"title\":{\"text\":\"NN Fitness Score\"}},                        {\"responsive\": true}                    ).then(function(){\n",
       "                            \n",
       "var gd = document.getElementById('cb707dd7-ab6a-4506-ba56-f946a3fa57f8');\n",
       "var x = new MutationObserver(function (mutations, observer) {{\n",
       "        var display = window.getComputedStyle(gd).display;\n",
       "        if (!display || display === 'none') {{\n",
       "            console.log([gd, 'removed!']);\n",
       "            Plotly.purge(gd);\n",
       "            observer.disconnect();\n",
       "        }}\n",
       "}});\n",
       "\n",
       "// Listen for the removal of the full notebook cells\n",
       "var notebookContainer = gd.closest('#notebook-container');\n",
       "if (notebookContainer) {{\n",
       "    x.observe(notebookContainer, {childList: true});\n",
       "}}\n",
       "\n",
       "// Listen for the clearing of the current output cell\n",
       "var outputEl = gd.closest('.output');\n",
       "if (outputEl) {{\n",
       "    x.observe(outputEl, {childList: true});\n",
       "}}\n",
       "\n",
       "                        })                };                });            </script>        </div>"
      ]
     },
     "metadata": {},
     "output_type": "display_data"
    }
   ],
   "source": [
    "px.line(result, \n",
    "        x=\"Iteration\", \n",
    "        y=\"Fitness\", \n",
    "        color=\"Algorithm\", \n",
    "        title=\"NN Fitness Score\")"
   ]
  },
  {
   "cell_type": "code",
   "execution_count": 83,
   "metadata": {},
   "outputs": [
    {
     "data": {
      "application/vnd.plotly.v1+json": {
       "config": {
        "plotlyServerURL": "https://plot.ly"
       },
       "data": [
        {
         "hovertemplate": "Algorithm=SA<br>Iteration=%{x}<br>Time=%{y}<extra></extra>",
         "legendgroup": "SA",
         "line": {
          "color": "#636efa",
          "dash": "solid"
         },
         "marker": {
          "symbol": "circle"
         },
         "mode": "lines",
         "name": "SA",
         "orientation": "v",
         "showlegend": true,
         "type": "scatter",
         "x": [
          0,
          1,
          10,
          50,
          100,
          500,
          1000
         ],
         "xaxis": "x",
         "y": [
          0.0022292909998213872,
          0.006255916000100115,
          0.017201374999785912,
          0.058149999999841384,
          0.10935800000015661,
          0.5152242079998359,
          1.095649916000184
         ],
         "yaxis": "y"
        },
        {
         "hovertemplate": "Algorithm=GA<br>Iteration=%{x}<br>Time=%{y}<extra></extra>",
         "legendgroup": "GA",
         "line": {
          "color": "#EF553B",
          "dash": "solid"
         },
         "marker": {
          "symbol": "circle"
         },
         "mode": "lines",
         "name": "GA",
         "orientation": "v",
         "showlegend": true,
         "type": "scatter",
         "x": [
          0,
          1,
          10,
          50,
          100,
          500,
          1000
         ],
         "xaxis": "x",
         "y": [
          0.0917438339997716,
          0.19026420899990626,
          1.0284366669998235,
          4.73535316699963,
          9.464361749999625,
          46.4547384589996,
          93.34711545899972
         ],
         "yaxis": "y"
        },
        {
         "hovertemplate": "Algorithm=RHC<br>Iteration=%{x}<br>Time=%{y}<extra></extra>",
         "legendgroup": "RHC",
         "line": {
          "color": "#00cc96",
          "dash": "solid"
         },
         "marker": {
          "symbol": "circle"
         },
         "mode": "lines",
         "name": "RHC",
         "orientation": "v",
         "showlegend": true,
         "type": "scatter",
         "x": [
          0,
          1,
          10,
          50,
          100,
          500,
          1000
         ],
         "xaxis": "x",
         "y": [
          0.8629160000000411,
          0.8673569160000625,
          0.8818264159999671,
          0.9301503750002666,
          0.9920015000002422,
          1.482012916000258,
          2.1429189159998714
         ],
         "yaxis": "y"
        }
       ],
       "layout": {
        "legend": {
         "title": {
          "text": "Algorithm"
         },
         "tracegroupgap": 0
        },
        "template": {
         "data": {
          "bar": [
           {
            "error_x": {
             "color": "#2a3f5f"
            },
            "error_y": {
             "color": "#2a3f5f"
            },
            "marker": {
             "line": {
              "color": "#E5ECF6",
              "width": 0.5
             },
             "pattern": {
              "fillmode": "overlay",
              "size": 10,
              "solidity": 0.2
             }
            },
            "type": "bar"
           }
          ],
          "barpolar": [
           {
            "marker": {
             "line": {
              "color": "#E5ECF6",
              "width": 0.5
             },
             "pattern": {
              "fillmode": "overlay",
              "size": 10,
              "solidity": 0.2
             }
            },
            "type": "barpolar"
           }
          ],
          "carpet": [
           {
            "aaxis": {
             "endlinecolor": "#2a3f5f",
             "gridcolor": "white",
             "linecolor": "white",
             "minorgridcolor": "white",
             "startlinecolor": "#2a3f5f"
            },
            "baxis": {
             "endlinecolor": "#2a3f5f",
             "gridcolor": "white",
             "linecolor": "white",
             "minorgridcolor": "white",
             "startlinecolor": "#2a3f5f"
            },
            "type": "carpet"
           }
          ],
          "choropleth": [
           {
            "colorbar": {
             "outlinewidth": 0,
             "ticks": ""
            },
            "type": "choropleth"
           }
          ],
          "contour": [
           {
            "colorbar": {
             "outlinewidth": 0,
             "ticks": ""
            },
            "colorscale": [
             [
              0,
              "#0d0887"
             ],
             [
              0.1111111111111111,
              "#46039f"
             ],
             [
              0.2222222222222222,
              "#7201a8"
             ],
             [
              0.3333333333333333,
              "#9c179e"
             ],
             [
              0.4444444444444444,
              "#bd3786"
             ],
             [
              0.5555555555555556,
              "#d8576b"
             ],
             [
              0.6666666666666666,
              "#ed7953"
             ],
             [
              0.7777777777777778,
              "#fb9f3a"
             ],
             [
              0.8888888888888888,
              "#fdca26"
             ],
             [
              1,
              "#f0f921"
             ]
            ],
            "type": "contour"
           }
          ],
          "contourcarpet": [
           {
            "colorbar": {
             "outlinewidth": 0,
             "ticks": ""
            },
            "type": "contourcarpet"
           }
          ],
          "heatmap": [
           {
            "colorbar": {
             "outlinewidth": 0,
             "ticks": ""
            },
            "colorscale": [
             [
              0,
              "#0d0887"
             ],
             [
              0.1111111111111111,
              "#46039f"
             ],
             [
              0.2222222222222222,
              "#7201a8"
             ],
             [
              0.3333333333333333,
              "#9c179e"
             ],
             [
              0.4444444444444444,
              "#bd3786"
             ],
             [
              0.5555555555555556,
              "#d8576b"
             ],
             [
              0.6666666666666666,
              "#ed7953"
             ],
             [
              0.7777777777777778,
              "#fb9f3a"
             ],
             [
              0.8888888888888888,
              "#fdca26"
             ],
             [
              1,
              "#f0f921"
             ]
            ],
            "type": "heatmap"
           }
          ],
          "heatmapgl": [
           {
            "colorbar": {
             "outlinewidth": 0,
             "ticks": ""
            },
            "colorscale": [
             [
              0,
              "#0d0887"
             ],
             [
              0.1111111111111111,
              "#46039f"
             ],
             [
              0.2222222222222222,
              "#7201a8"
             ],
             [
              0.3333333333333333,
              "#9c179e"
             ],
             [
              0.4444444444444444,
              "#bd3786"
             ],
             [
              0.5555555555555556,
              "#d8576b"
             ],
             [
              0.6666666666666666,
              "#ed7953"
             ],
             [
              0.7777777777777778,
              "#fb9f3a"
             ],
             [
              0.8888888888888888,
              "#fdca26"
             ],
             [
              1,
              "#f0f921"
             ]
            ],
            "type": "heatmapgl"
           }
          ],
          "histogram": [
           {
            "marker": {
             "pattern": {
              "fillmode": "overlay",
              "size": 10,
              "solidity": 0.2
             }
            },
            "type": "histogram"
           }
          ],
          "histogram2d": [
           {
            "colorbar": {
             "outlinewidth": 0,
             "ticks": ""
            },
            "colorscale": [
             [
              0,
              "#0d0887"
             ],
             [
              0.1111111111111111,
              "#46039f"
             ],
             [
              0.2222222222222222,
              "#7201a8"
             ],
             [
              0.3333333333333333,
              "#9c179e"
             ],
             [
              0.4444444444444444,
              "#bd3786"
             ],
             [
              0.5555555555555556,
              "#d8576b"
             ],
             [
              0.6666666666666666,
              "#ed7953"
             ],
             [
              0.7777777777777778,
              "#fb9f3a"
             ],
             [
              0.8888888888888888,
              "#fdca26"
             ],
             [
              1,
              "#f0f921"
             ]
            ],
            "type": "histogram2d"
           }
          ],
          "histogram2dcontour": [
           {
            "colorbar": {
             "outlinewidth": 0,
             "ticks": ""
            },
            "colorscale": [
             [
              0,
              "#0d0887"
             ],
             [
              0.1111111111111111,
              "#46039f"
             ],
             [
              0.2222222222222222,
              "#7201a8"
             ],
             [
              0.3333333333333333,
              "#9c179e"
             ],
             [
              0.4444444444444444,
              "#bd3786"
             ],
             [
              0.5555555555555556,
              "#d8576b"
             ],
             [
              0.6666666666666666,
              "#ed7953"
             ],
             [
              0.7777777777777778,
              "#fb9f3a"
             ],
             [
              0.8888888888888888,
              "#fdca26"
             ],
             [
              1,
              "#f0f921"
             ]
            ],
            "type": "histogram2dcontour"
           }
          ],
          "mesh3d": [
           {
            "colorbar": {
             "outlinewidth": 0,
             "ticks": ""
            },
            "type": "mesh3d"
           }
          ],
          "parcoords": [
           {
            "line": {
             "colorbar": {
              "outlinewidth": 0,
              "ticks": ""
             }
            },
            "type": "parcoords"
           }
          ],
          "pie": [
           {
            "automargin": true,
            "type": "pie"
           }
          ],
          "scatter": [
           {
            "fillpattern": {
             "fillmode": "overlay",
             "size": 10,
             "solidity": 0.2
            },
            "type": "scatter"
           }
          ],
          "scatter3d": [
           {
            "line": {
             "colorbar": {
              "outlinewidth": 0,
              "ticks": ""
             }
            },
            "marker": {
             "colorbar": {
              "outlinewidth": 0,
              "ticks": ""
             }
            },
            "type": "scatter3d"
           }
          ],
          "scattercarpet": [
           {
            "marker": {
             "colorbar": {
              "outlinewidth": 0,
              "ticks": ""
             }
            },
            "type": "scattercarpet"
           }
          ],
          "scattergeo": [
           {
            "marker": {
             "colorbar": {
              "outlinewidth": 0,
              "ticks": ""
             }
            },
            "type": "scattergeo"
           }
          ],
          "scattergl": [
           {
            "marker": {
             "colorbar": {
              "outlinewidth": 0,
              "ticks": ""
             }
            },
            "type": "scattergl"
           }
          ],
          "scattermapbox": [
           {
            "marker": {
             "colorbar": {
              "outlinewidth": 0,
              "ticks": ""
             }
            },
            "type": "scattermapbox"
           }
          ],
          "scatterpolar": [
           {
            "marker": {
             "colorbar": {
              "outlinewidth": 0,
              "ticks": ""
             }
            },
            "type": "scatterpolar"
           }
          ],
          "scatterpolargl": [
           {
            "marker": {
             "colorbar": {
              "outlinewidth": 0,
              "ticks": ""
             }
            },
            "type": "scatterpolargl"
           }
          ],
          "scatterternary": [
           {
            "marker": {
             "colorbar": {
              "outlinewidth": 0,
              "ticks": ""
             }
            },
            "type": "scatterternary"
           }
          ],
          "surface": [
           {
            "colorbar": {
             "outlinewidth": 0,
             "ticks": ""
            },
            "colorscale": [
             [
              0,
              "#0d0887"
             ],
             [
              0.1111111111111111,
              "#46039f"
             ],
             [
              0.2222222222222222,
              "#7201a8"
             ],
             [
              0.3333333333333333,
              "#9c179e"
             ],
             [
              0.4444444444444444,
              "#bd3786"
             ],
             [
              0.5555555555555556,
              "#d8576b"
             ],
             [
              0.6666666666666666,
              "#ed7953"
             ],
             [
              0.7777777777777778,
              "#fb9f3a"
             ],
             [
              0.8888888888888888,
              "#fdca26"
             ],
             [
              1,
              "#f0f921"
             ]
            ],
            "type": "surface"
           }
          ],
          "table": [
           {
            "cells": {
             "fill": {
              "color": "#EBF0F8"
             },
             "line": {
              "color": "white"
             }
            },
            "header": {
             "fill": {
              "color": "#C8D4E3"
             },
             "line": {
              "color": "white"
             }
            },
            "type": "table"
           }
          ]
         },
         "layout": {
          "annotationdefaults": {
           "arrowcolor": "#2a3f5f",
           "arrowhead": 0,
           "arrowwidth": 1
          },
          "autotypenumbers": "strict",
          "coloraxis": {
           "colorbar": {
            "outlinewidth": 0,
            "ticks": ""
           }
          },
          "colorscale": {
           "diverging": [
            [
             0,
             "#8e0152"
            ],
            [
             0.1,
             "#c51b7d"
            ],
            [
             0.2,
             "#de77ae"
            ],
            [
             0.3,
             "#f1b6da"
            ],
            [
             0.4,
             "#fde0ef"
            ],
            [
             0.5,
             "#f7f7f7"
            ],
            [
             0.6,
             "#e6f5d0"
            ],
            [
             0.7,
             "#b8e186"
            ],
            [
             0.8,
             "#7fbc41"
            ],
            [
             0.9,
             "#4d9221"
            ],
            [
             1,
             "#276419"
            ]
           ],
           "sequential": [
            [
             0,
             "#0d0887"
            ],
            [
             0.1111111111111111,
             "#46039f"
            ],
            [
             0.2222222222222222,
             "#7201a8"
            ],
            [
             0.3333333333333333,
             "#9c179e"
            ],
            [
             0.4444444444444444,
             "#bd3786"
            ],
            [
             0.5555555555555556,
             "#d8576b"
            ],
            [
             0.6666666666666666,
             "#ed7953"
            ],
            [
             0.7777777777777778,
             "#fb9f3a"
            ],
            [
             0.8888888888888888,
             "#fdca26"
            ],
            [
             1,
             "#f0f921"
            ]
           ],
           "sequentialminus": [
            [
             0,
             "#0d0887"
            ],
            [
             0.1111111111111111,
             "#46039f"
            ],
            [
             0.2222222222222222,
             "#7201a8"
            ],
            [
             0.3333333333333333,
             "#9c179e"
            ],
            [
             0.4444444444444444,
             "#bd3786"
            ],
            [
             0.5555555555555556,
             "#d8576b"
            ],
            [
             0.6666666666666666,
             "#ed7953"
            ],
            [
             0.7777777777777778,
             "#fb9f3a"
            ],
            [
             0.8888888888888888,
             "#fdca26"
            ],
            [
             1,
             "#f0f921"
            ]
           ]
          },
          "colorway": [
           "#636efa",
           "#EF553B",
           "#00cc96",
           "#ab63fa",
           "#FFA15A",
           "#19d3f3",
           "#FF6692",
           "#B6E880",
           "#FF97FF",
           "#FECB52"
          ],
          "font": {
           "color": "#2a3f5f"
          },
          "geo": {
           "bgcolor": "white",
           "lakecolor": "white",
           "landcolor": "#E5ECF6",
           "showlakes": true,
           "showland": true,
           "subunitcolor": "white"
          },
          "hoverlabel": {
           "align": "left"
          },
          "hovermode": "closest",
          "mapbox": {
           "style": "light"
          },
          "paper_bgcolor": "white",
          "plot_bgcolor": "#E5ECF6",
          "polar": {
           "angularaxis": {
            "gridcolor": "white",
            "linecolor": "white",
            "ticks": ""
           },
           "bgcolor": "#E5ECF6",
           "radialaxis": {
            "gridcolor": "white",
            "linecolor": "white",
            "ticks": ""
           }
          },
          "scene": {
           "xaxis": {
            "backgroundcolor": "#E5ECF6",
            "gridcolor": "white",
            "gridwidth": 2,
            "linecolor": "white",
            "showbackground": true,
            "ticks": "",
            "zerolinecolor": "white"
           },
           "yaxis": {
            "backgroundcolor": "#E5ECF6",
            "gridcolor": "white",
            "gridwidth": 2,
            "linecolor": "white",
            "showbackground": true,
            "ticks": "",
            "zerolinecolor": "white"
           },
           "zaxis": {
            "backgroundcolor": "#E5ECF6",
            "gridcolor": "white",
            "gridwidth": 2,
            "linecolor": "white",
            "showbackground": true,
            "ticks": "",
            "zerolinecolor": "white"
           }
          },
          "shapedefaults": {
           "line": {
            "color": "#2a3f5f"
           }
          },
          "ternary": {
           "aaxis": {
            "gridcolor": "white",
            "linecolor": "white",
            "ticks": ""
           },
           "baxis": {
            "gridcolor": "white",
            "linecolor": "white",
            "ticks": ""
           },
           "bgcolor": "#E5ECF6",
           "caxis": {
            "gridcolor": "white",
            "linecolor": "white",
            "ticks": ""
           }
          },
          "title": {
           "x": 0.05
          },
          "xaxis": {
           "automargin": true,
           "gridcolor": "white",
           "linecolor": "white",
           "ticks": "",
           "title": {
            "standoff": 15
           },
           "zerolinecolor": "white",
           "zerolinewidth": 2
          },
          "yaxis": {
           "automargin": true,
           "gridcolor": "white",
           "linecolor": "white",
           "ticks": "",
           "title": {
            "standoff": 15
           },
           "zerolinecolor": "white",
           "zerolinewidth": 2
          }
         }
        },
        "title": {
         "text": "NN Fitness Score"
        },
        "xaxis": {
         "anchor": "y",
         "domain": [
          0,
          1
         ],
         "title": {
          "text": "Iteration"
         }
        },
        "yaxis": {
         "anchor": "x",
         "domain": [
          0,
          1
         ],
         "title": {
          "text": "Time"
         }
        }
       }
      },
      "text/html": [
       "<div>                            <div id=\"47630d0f-ef02-4118-8b72-59d85b3f4595\" class=\"plotly-graph-div\" style=\"height:525px; width:100%;\"></div>            <script type=\"text/javascript\">                require([\"plotly\"], function(Plotly) {                    window.PLOTLYENV=window.PLOTLYENV || {};                                    if (document.getElementById(\"47630d0f-ef02-4118-8b72-59d85b3f4595\")) {                    Plotly.newPlot(                        \"47630d0f-ef02-4118-8b72-59d85b3f4595\",                        [{\"hovertemplate\":\"Algorithm=SA<br>Iteration=%{x}<br>Time=%{y}<extra></extra>\",\"legendgroup\":\"SA\",\"line\":{\"color\":\"#636efa\",\"dash\":\"solid\"},\"marker\":{\"symbol\":\"circle\"},\"mode\":\"lines\",\"name\":\"SA\",\"orientation\":\"v\",\"showlegend\":true,\"x\":[0,1,10,50,100,500,1000],\"xaxis\":\"x\",\"y\":[0.0022292909998213872,0.006255916000100115,0.017201374999785912,0.058149999999841384,0.10935800000015661,0.5152242079998359,1.095649916000184],\"yaxis\":\"y\",\"type\":\"scatter\"},{\"hovertemplate\":\"Algorithm=GA<br>Iteration=%{x}<br>Time=%{y}<extra></extra>\",\"legendgroup\":\"GA\",\"line\":{\"color\":\"#EF553B\",\"dash\":\"solid\"},\"marker\":{\"symbol\":\"circle\"},\"mode\":\"lines\",\"name\":\"GA\",\"orientation\":\"v\",\"showlegend\":true,\"x\":[0,1,10,50,100,500,1000],\"xaxis\":\"x\",\"y\":[0.0917438339997716,0.19026420899990626,1.0284366669998235,4.73535316699963,9.464361749999625,46.4547384589996,93.34711545899972],\"yaxis\":\"y\",\"type\":\"scatter\"},{\"hovertemplate\":\"Algorithm=RHC<br>Iteration=%{x}<br>Time=%{y}<extra></extra>\",\"legendgroup\":\"RHC\",\"line\":{\"color\":\"#00cc96\",\"dash\":\"solid\"},\"marker\":{\"symbol\":\"circle\"},\"mode\":\"lines\",\"name\":\"RHC\",\"orientation\":\"v\",\"showlegend\":true,\"x\":[0,1,10,50,100,500,1000],\"xaxis\":\"x\",\"y\":[0.8629160000000411,0.8673569160000625,0.8818264159999671,0.9301503750002666,0.9920015000002422,1.482012916000258,2.1429189159998714],\"yaxis\":\"y\",\"type\":\"scatter\"}],                        {\"template\":{\"data\":{\"histogram2dcontour\":[{\"type\":\"histogram2dcontour\",\"colorbar\":{\"outlinewidth\":0,\"ticks\":\"\"},\"colorscale\":[[0.0,\"#0d0887\"],[0.1111111111111111,\"#46039f\"],[0.2222222222222222,\"#7201a8\"],[0.3333333333333333,\"#9c179e\"],[0.4444444444444444,\"#bd3786\"],[0.5555555555555556,\"#d8576b\"],[0.6666666666666666,\"#ed7953\"],[0.7777777777777778,\"#fb9f3a\"],[0.8888888888888888,\"#fdca26\"],[1.0,\"#f0f921\"]]}],\"choropleth\":[{\"type\":\"choropleth\",\"colorbar\":{\"outlinewidth\":0,\"ticks\":\"\"}}],\"histogram2d\":[{\"type\":\"histogram2d\",\"colorbar\":{\"outlinewidth\":0,\"ticks\":\"\"},\"colorscale\":[[0.0,\"#0d0887\"],[0.1111111111111111,\"#46039f\"],[0.2222222222222222,\"#7201a8\"],[0.3333333333333333,\"#9c179e\"],[0.4444444444444444,\"#bd3786\"],[0.5555555555555556,\"#d8576b\"],[0.6666666666666666,\"#ed7953\"],[0.7777777777777778,\"#fb9f3a\"],[0.8888888888888888,\"#fdca26\"],[1.0,\"#f0f921\"]]}],\"heatmap\":[{\"type\":\"heatmap\",\"colorbar\":{\"outlinewidth\":0,\"ticks\":\"\"},\"colorscale\":[[0.0,\"#0d0887\"],[0.1111111111111111,\"#46039f\"],[0.2222222222222222,\"#7201a8\"],[0.3333333333333333,\"#9c179e\"],[0.4444444444444444,\"#bd3786\"],[0.5555555555555556,\"#d8576b\"],[0.6666666666666666,\"#ed7953\"],[0.7777777777777778,\"#fb9f3a\"],[0.8888888888888888,\"#fdca26\"],[1.0,\"#f0f921\"]]}],\"heatmapgl\":[{\"type\":\"heatmapgl\",\"colorbar\":{\"outlinewidth\":0,\"ticks\":\"\"},\"colorscale\":[[0.0,\"#0d0887\"],[0.1111111111111111,\"#46039f\"],[0.2222222222222222,\"#7201a8\"],[0.3333333333333333,\"#9c179e\"],[0.4444444444444444,\"#bd3786\"],[0.5555555555555556,\"#d8576b\"],[0.6666666666666666,\"#ed7953\"],[0.7777777777777778,\"#fb9f3a\"],[0.8888888888888888,\"#fdca26\"],[1.0,\"#f0f921\"]]}],\"contourcarpet\":[{\"type\":\"contourcarpet\",\"colorbar\":{\"outlinewidth\":0,\"ticks\":\"\"}}],\"contour\":[{\"type\":\"contour\",\"colorbar\":{\"outlinewidth\":0,\"ticks\":\"\"},\"colorscale\":[[0.0,\"#0d0887\"],[0.1111111111111111,\"#46039f\"],[0.2222222222222222,\"#7201a8\"],[0.3333333333333333,\"#9c179e\"],[0.4444444444444444,\"#bd3786\"],[0.5555555555555556,\"#d8576b\"],[0.6666666666666666,\"#ed7953\"],[0.7777777777777778,\"#fb9f3a\"],[0.8888888888888888,\"#fdca26\"],[1.0,\"#f0f921\"]]}],\"surface\":[{\"type\":\"surface\",\"colorbar\":{\"outlinewidth\":0,\"ticks\":\"\"},\"colorscale\":[[0.0,\"#0d0887\"],[0.1111111111111111,\"#46039f\"],[0.2222222222222222,\"#7201a8\"],[0.3333333333333333,\"#9c179e\"],[0.4444444444444444,\"#bd3786\"],[0.5555555555555556,\"#d8576b\"],[0.6666666666666666,\"#ed7953\"],[0.7777777777777778,\"#fb9f3a\"],[0.8888888888888888,\"#fdca26\"],[1.0,\"#f0f921\"]]}],\"mesh3d\":[{\"type\":\"mesh3d\",\"colorbar\":{\"outlinewidth\":0,\"ticks\":\"\"}}],\"scatter\":[{\"fillpattern\":{\"fillmode\":\"overlay\",\"size\":10,\"solidity\":0.2},\"type\":\"scatter\"}],\"parcoords\":[{\"type\":\"parcoords\",\"line\":{\"colorbar\":{\"outlinewidth\":0,\"ticks\":\"\"}}}],\"scatterpolargl\":[{\"type\":\"scatterpolargl\",\"marker\":{\"colorbar\":{\"outlinewidth\":0,\"ticks\":\"\"}}}],\"bar\":[{\"error_x\":{\"color\":\"#2a3f5f\"},\"error_y\":{\"color\":\"#2a3f5f\"},\"marker\":{\"line\":{\"color\":\"#E5ECF6\",\"width\":0.5},\"pattern\":{\"fillmode\":\"overlay\",\"size\":10,\"solidity\":0.2}},\"type\":\"bar\"}],\"scattergeo\":[{\"type\":\"scattergeo\",\"marker\":{\"colorbar\":{\"outlinewidth\":0,\"ticks\":\"\"}}}],\"scatterpolar\":[{\"type\":\"scatterpolar\",\"marker\":{\"colorbar\":{\"outlinewidth\":0,\"ticks\":\"\"}}}],\"histogram\":[{\"marker\":{\"pattern\":{\"fillmode\":\"overlay\",\"size\":10,\"solidity\":0.2}},\"type\":\"histogram\"}],\"scattergl\":[{\"type\":\"scattergl\",\"marker\":{\"colorbar\":{\"outlinewidth\":0,\"ticks\":\"\"}}}],\"scatter3d\":[{\"type\":\"scatter3d\",\"line\":{\"colorbar\":{\"outlinewidth\":0,\"ticks\":\"\"}},\"marker\":{\"colorbar\":{\"outlinewidth\":0,\"ticks\":\"\"}}}],\"scattermapbox\":[{\"type\":\"scattermapbox\",\"marker\":{\"colorbar\":{\"outlinewidth\":0,\"ticks\":\"\"}}}],\"scatterternary\":[{\"type\":\"scatterternary\",\"marker\":{\"colorbar\":{\"outlinewidth\":0,\"ticks\":\"\"}}}],\"scattercarpet\":[{\"type\":\"scattercarpet\",\"marker\":{\"colorbar\":{\"outlinewidth\":0,\"ticks\":\"\"}}}],\"carpet\":[{\"aaxis\":{\"endlinecolor\":\"#2a3f5f\",\"gridcolor\":\"white\",\"linecolor\":\"white\",\"minorgridcolor\":\"white\",\"startlinecolor\":\"#2a3f5f\"},\"baxis\":{\"endlinecolor\":\"#2a3f5f\",\"gridcolor\":\"white\",\"linecolor\":\"white\",\"minorgridcolor\":\"white\",\"startlinecolor\":\"#2a3f5f\"},\"type\":\"carpet\"}],\"table\":[{\"cells\":{\"fill\":{\"color\":\"#EBF0F8\"},\"line\":{\"color\":\"white\"}},\"header\":{\"fill\":{\"color\":\"#C8D4E3\"},\"line\":{\"color\":\"white\"}},\"type\":\"table\"}],\"barpolar\":[{\"marker\":{\"line\":{\"color\":\"#E5ECF6\",\"width\":0.5},\"pattern\":{\"fillmode\":\"overlay\",\"size\":10,\"solidity\":0.2}},\"type\":\"barpolar\"}],\"pie\":[{\"automargin\":true,\"type\":\"pie\"}]},\"layout\":{\"autotypenumbers\":\"strict\",\"colorway\":[\"#636efa\",\"#EF553B\",\"#00cc96\",\"#ab63fa\",\"#FFA15A\",\"#19d3f3\",\"#FF6692\",\"#B6E880\",\"#FF97FF\",\"#FECB52\"],\"font\":{\"color\":\"#2a3f5f\"},\"hovermode\":\"closest\",\"hoverlabel\":{\"align\":\"left\"},\"paper_bgcolor\":\"white\",\"plot_bgcolor\":\"#E5ECF6\",\"polar\":{\"bgcolor\":\"#E5ECF6\",\"angularaxis\":{\"gridcolor\":\"white\",\"linecolor\":\"white\",\"ticks\":\"\"},\"radialaxis\":{\"gridcolor\":\"white\",\"linecolor\":\"white\",\"ticks\":\"\"}},\"ternary\":{\"bgcolor\":\"#E5ECF6\",\"aaxis\":{\"gridcolor\":\"white\",\"linecolor\":\"white\",\"ticks\":\"\"},\"baxis\":{\"gridcolor\":\"white\",\"linecolor\":\"white\",\"ticks\":\"\"},\"caxis\":{\"gridcolor\":\"white\",\"linecolor\":\"white\",\"ticks\":\"\"}},\"coloraxis\":{\"colorbar\":{\"outlinewidth\":0,\"ticks\":\"\"}},\"colorscale\":{\"sequential\":[[0.0,\"#0d0887\"],[0.1111111111111111,\"#46039f\"],[0.2222222222222222,\"#7201a8\"],[0.3333333333333333,\"#9c179e\"],[0.4444444444444444,\"#bd3786\"],[0.5555555555555556,\"#d8576b\"],[0.6666666666666666,\"#ed7953\"],[0.7777777777777778,\"#fb9f3a\"],[0.8888888888888888,\"#fdca26\"],[1.0,\"#f0f921\"]],\"sequentialminus\":[[0.0,\"#0d0887\"],[0.1111111111111111,\"#46039f\"],[0.2222222222222222,\"#7201a8\"],[0.3333333333333333,\"#9c179e\"],[0.4444444444444444,\"#bd3786\"],[0.5555555555555556,\"#d8576b\"],[0.6666666666666666,\"#ed7953\"],[0.7777777777777778,\"#fb9f3a\"],[0.8888888888888888,\"#fdca26\"],[1.0,\"#f0f921\"]],\"diverging\":[[0,\"#8e0152\"],[0.1,\"#c51b7d\"],[0.2,\"#de77ae\"],[0.3,\"#f1b6da\"],[0.4,\"#fde0ef\"],[0.5,\"#f7f7f7\"],[0.6,\"#e6f5d0\"],[0.7,\"#b8e186\"],[0.8,\"#7fbc41\"],[0.9,\"#4d9221\"],[1,\"#276419\"]]},\"xaxis\":{\"gridcolor\":\"white\",\"linecolor\":\"white\",\"ticks\":\"\",\"title\":{\"standoff\":15},\"zerolinecolor\":\"white\",\"automargin\":true,\"zerolinewidth\":2},\"yaxis\":{\"gridcolor\":\"white\",\"linecolor\":\"white\",\"ticks\":\"\",\"title\":{\"standoff\":15},\"zerolinecolor\":\"white\",\"automargin\":true,\"zerolinewidth\":2},\"scene\":{\"xaxis\":{\"backgroundcolor\":\"#E5ECF6\",\"gridcolor\":\"white\",\"linecolor\":\"white\",\"showbackground\":true,\"ticks\":\"\",\"zerolinecolor\":\"white\",\"gridwidth\":2},\"yaxis\":{\"backgroundcolor\":\"#E5ECF6\",\"gridcolor\":\"white\",\"linecolor\":\"white\",\"showbackground\":true,\"ticks\":\"\",\"zerolinecolor\":\"white\",\"gridwidth\":2},\"zaxis\":{\"backgroundcolor\":\"#E5ECF6\",\"gridcolor\":\"white\",\"linecolor\":\"white\",\"showbackground\":true,\"ticks\":\"\",\"zerolinecolor\":\"white\",\"gridwidth\":2}},\"shapedefaults\":{\"line\":{\"color\":\"#2a3f5f\"}},\"annotationdefaults\":{\"arrowcolor\":\"#2a3f5f\",\"arrowhead\":0,\"arrowwidth\":1},\"geo\":{\"bgcolor\":\"white\",\"landcolor\":\"#E5ECF6\",\"subunitcolor\":\"white\",\"showland\":true,\"showlakes\":true,\"lakecolor\":\"white\"},\"title\":{\"x\":0.05},\"mapbox\":{\"style\":\"light\"}}},\"xaxis\":{\"anchor\":\"y\",\"domain\":[0.0,1.0],\"title\":{\"text\":\"Iteration\"}},\"yaxis\":{\"anchor\":\"x\",\"domain\":[0.0,1.0],\"title\":{\"text\":\"Time\"}},\"legend\":{\"title\":{\"text\":\"Algorithm\"},\"tracegroupgap\":0},\"title\":{\"text\":\"NN Fitness Score\"}},                        {\"responsive\": true}                    ).then(function(){\n",
       "                            \n",
       "var gd = document.getElementById('47630d0f-ef02-4118-8b72-59d85b3f4595');\n",
       "var x = new MutationObserver(function (mutations, observer) {{\n",
       "        var display = window.getComputedStyle(gd).display;\n",
       "        if (!display || display === 'none') {{\n",
       "            console.log([gd, 'removed!']);\n",
       "            Plotly.purge(gd);\n",
       "            observer.disconnect();\n",
       "        }}\n",
       "}});\n",
       "\n",
       "// Listen for the removal of the full notebook cells\n",
       "var notebookContainer = gd.closest('#notebook-container');\n",
       "if (notebookContainer) {{\n",
       "    x.observe(notebookContainer, {childList: true});\n",
       "}}\n",
       "\n",
       "// Listen for the clearing of the current output cell\n",
       "var outputEl = gd.closest('.output');\n",
       "if (outputEl) {{\n",
       "    x.observe(outputEl, {childList: true});\n",
       "}}\n",
       "\n",
       "                        })                };                });            </script>        </div>"
      ]
     },
     "metadata": {},
     "output_type": "display_data"
    }
   ],
   "source": [
    "px.line(result, \n",
    "        x=\"Iteration\", \n",
    "        y=\"Time\", \n",
    "        color=\"Algorithm\", \n",
    "        title=\"NN Fitness Score\")"
   ]
  },
  {
   "cell_type": "code",
   "execution_count": null,
   "metadata": {},
   "outputs": [],
   "source": []
  }
 ],
 "metadata": {
  "colab": {
   "provenance": []
  },
  "kernelspec": {
   "display_name": "Python 3 (ipykernel)",
   "language": "python",
   "name": "python3"
  },
  "language_info": {
   "codemirror_mode": {
    "name": "ipython",
    "version": 3
   },
   "file_extension": ".py",
   "mimetype": "text/x-python",
   "name": "python",
   "nbconvert_exporter": "python",
   "pygments_lexer": "ipython3",
   "version": "3.9.13"
  }
 },
 "nbformat": 4,
 "nbformat_minor": 1
}
